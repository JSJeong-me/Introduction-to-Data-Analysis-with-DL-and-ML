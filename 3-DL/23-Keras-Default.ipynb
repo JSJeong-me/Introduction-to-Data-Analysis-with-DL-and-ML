{
  "nbformat": 4,
  "nbformat_minor": 0,
  "metadata": {
    "colab": {
      "name": "Untitled21.ipynb",
      "provenance": [],
      "machine_shape": "hm",
      "gpuType": "V100",
      "authorship_tag": "ABX9TyNyr+n1rkbLXX/1DJ+gd/1V",
      "include_colab_link": true
    },
    "kernelspec": {
      "name": "python3",
      "display_name": "Python 3"
    },
    "language_info": {
      "name": "python"
    },
    "accelerator": "GPU"
  },
  "cells": [
    {
      "cell_type": "markdown",
      "metadata": {
        "id": "view-in-github",
        "colab_type": "text"
      },
      "source": [
        "<a href=\"https://colab.research.google.com/github/JSJeong-me/Introduction-to-Data-Analysis-with-DL-and-ML/blob/main/3-DL/23-Keras-Default.ipynb\" target=\"_parent\"><img src=\"https://colab.research.google.com/assets/colab-badge.svg\" alt=\"Open In Colab\"/></a>"
      ]
    },
    {
      "cell_type": "code",
      "metadata": {
        "id": "rIVQr8rkRSzo"
      },
      "source": [
        "import tensorflow as tf"
      ],
      "execution_count": 1,
      "outputs": []
    },
    {
      "cell_type": "code",
      "metadata": {
        "id": "K-LyBvtlRXLx"
      },
      "source": [
        "from tensorflow import keras\n",
        "from tensorflow.keras import layers"
      ],
      "execution_count": 2,
      "outputs": []
    },
    {
      "cell_type": "markdown",
      "metadata": {
        "id": "o8P-5vWCbFX6"
      },
      "source": [
        "Data Set Preparation"
      ]
    },
    {
      "cell_type": "code",
      "metadata": {
        "id": "63-1k-fkbJZr"
      },
      "source": [
        "from sklearn.model_selection import train_test_split\n",
        "import pandas as pd\n",
        "import numpy as np\n",
        "from sklearn.preprocessing import StandardScaler"
      ],
      "execution_count": 3,
      "outputs": []
    },
    {
      "cell_type": "code",
      "metadata": {
        "id": "RRCFJZynbcDk"
      },
      "source": [
        "df = pd.read_csv(\"./data.csv\")"
      ],
      "execution_count": 4,
      "outputs": []
    },
    {
      "cell_type": "code",
      "source": [
        "df.tail()"
      ],
      "metadata": {
        "id": "CfTlrXEqs7mI"
      },
      "execution_count": null,
      "outputs": []
    },
    {
      "cell_type": "code",
      "source": [
        "df.columns"
      ],
      "metadata": {
        "colab": {
          "base_uri": "https://localhost:8080/"
        },
        "id": "rtFNgvfKyEfT",
        "outputId": "971fb0f9-c0f8-47f0-fa31-55e0bce006f0"
      },
      "execution_count": 6,
      "outputs": [
        {
          "output_type": "execute_result",
          "data": {
            "text/plain": [
              "Index(['SEX', 'LIMIT_BAL', 'EDUCATION', 'MARRIAGE', 'AGE', 'PAY_AVR',\n",
              "       'BILL_AVR', 'AMT_AVR', 'UTIL', 'default.payment.next.month'],\n",
              "      dtype='object')"
            ]
          },
          "metadata": {},
          "execution_count": 6
        }
      ]
    },
    {
      "cell_type": "code",
      "metadata": {
        "id": "tFoTnb3KbiW1"
      },
      "source": [
        "X = df.drop(['default.payment.next.month'],axis =1).values\n",
        "y = df['default.payment.next.month'].values"
      ],
      "execution_count": 7,
      "outputs": []
    },
    {
      "cell_type": "code",
      "source": [
        "X[0]"
      ],
      "metadata": {
        "id": "NTMAVbUw-cLT",
        "outputId": "a0bf83b6-61fe-4daa-f4da-2eec1327f3d8",
        "colab": {
          "base_uri": "https://localhost:8080/"
        }
      },
      "execution_count": 8,
      "outputs": [
        {
          "output_type": "execute_result",
          "data": {
            "text/plain": [
              "array([ 2.00000000e+00,  2.00000000e+04,  2.00000000e+00,  1.00000000e+00,\n",
              "        2.40000000e+01, -3.33333333e-01,  1.28400000e+03,  1.14833333e+02,\n",
              "        6.42000000e-02])"
            ]
          },
          "metadata": {},
          "execution_count": 8
        }
      ]
    },
    {
      "cell_type": "code",
      "source": [],
      "metadata": {
        "id": "RW10ZMqI9d57"
      },
      "execution_count": 8,
      "outputs": []
    },
    {
      "cell_type": "code",
      "source": [],
      "metadata": {
        "id": "vB4_QJ6P9dXM"
      },
      "execution_count": 8,
      "outputs": []
    },
    {
      "cell_type": "code",
      "source": [
        "X[-1]"
      ],
      "metadata": {
        "colab": {
          "base_uri": "https://localhost:8080/"
        },
        "id": "OM-6d4W0tHLq",
        "outputId": "c9418cfe-4130-4aba-937b-c27ec20a6375"
      },
      "execution_count": 9,
      "outputs": [
        {
          "output_type": "execute_result",
          "data": {
            "text/plain": [
              "array([1.00000000e+00, 5.00000000e+04, 2.00000000e+00, 1.00000000e+00,\n",
              "       4.60000000e+01, 0.00000000e+00, 3.84790000e+04, 1.38466667e+03,\n",
              "       7.69580000e-01])"
            ]
          },
          "metadata": {},
          "execution_count": 9
        }
      ]
    },
    {
      "cell_type": "code",
      "source": [
        "y[-1]"
      ],
      "metadata": {
        "colab": {
          "base_uri": "https://localhost:8080/"
        },
        "id": "FhW6AfqatO7r",
        "outputId": "e30b04ce-5260-4000-cea4-0970999bf884"
      },
      "execution_count": 10,
      "outputs": [
        {
          "output_type": "execute_result",
          "data": {
            "text/plain": [
              "1"
            ]
          },
          "metadata": {},
          "execution_count": 10
        }
      ]
    },
    {
      "cell_type": "code",
      "metadata": {
        "id": "EGv9KO1ubnCN"
      },
      "source": [
        "X_train, X_test, y_train, y_test = train_test_split(X, y, test_size=0.3, random_state=42)"
      ],
      "execution_count": 11,
      "outputs": []
    },
    {
      "cell_type": "code",
      "source": [
        "len(X_test)"
      ],
      "metadata": {
        "colab": {
          "base_uri": "https://localhost:8080/"
        },
        "id": "qi57UJwZtUCB",
        "outputId": "5596620d-e666-4302-9909-e277ffee0f02"
      },
      "execution_count": 12,
      "outputs": [
        {
          "output_type": "execute_result",
          "data": {
            "text/plain": [
              "9000"
            ]
          },
          "metadata": {},
          "execution_count": 12
        }
      ]
    },
    {
      "cell_type": "code",
      "source": [
        "sc = StandardScaler()"
      ],
      "metadata": {
        "id": "6lhCHUV4th-e"
      },
      "execution_count": 13,
      "outputs": []
    },
    {
      "cell_type": "code",
      "metadata": {
        "id": "AaEgKOqpbqTV"
      },
      "source": [
        "X_train = sc.fit_transform(X_train)\n",
        "X_test = sc.transform(X_test)"
      ],
      "execution_count": 14,
      "outputs": []
    },
    {
      "cell_type": "code",
      "source": [
        "X_train[-1]"
      ],
      "metadata": {
        "colab": {
          "base_uri": "https://localhost:8080/"
        },
        "id": "QUFq51M7uCkg",
        "outputId": "faf120a8-4768-4368-f217-adde3fa004e9"
      },
      "execution_count": 15,
      "outputs": [
        {
          "output_type": "execute_result",
          "data": {
            "text/plain": [
              "array([ 0.80648893, -0.05504288,  0.18648797, -1.05381817,  0.05416417,\n",
              "       -1.847642  , -0.65392199, -0.11985747, -0.98898473])"
            ]
          },
          "metadata": {},
          "execution_count": 15
        }
      ]
    },
    {
      "cell_type": "code",
      "source": [
        "X_test[-1]"
      ],
      "metadata": {
        "colab": {
          "base_uri": "https://localhost:8080/"
        },
        "id": "5pRiY_7eudQL",
        "outputId": "f8703d46-9a30-4f2f-8eaa-5a3e598e2462"
      },
      "execution_count": 16,
      "outputs": [
        {
          "output_type": "execute_result",
          "data": {
            "text/plain": [
              "array([ 0.80648893,  0.64128415, -1.07681763, -1.05381817,  0.05416417,\n",
              "       -1.847642  , -0.65301532, -0.03974819, -1.0119738 ])"
            ]
          },
          "metadata": {},
          "execution_count": 16
        }
      ]
    },
    {
      "cell_type": "code",
      "source": [
        "len(X_train)"
      ],
      "metadata": {
        "colab": {
          "base_uri": "https://localhost:8080/"
        },
        "id": "qCurEV2Lukvt",
        "outputId": "57f9f74e-0b16-4454-80fe-caa047670a17"
      },
      "execution_count": 17,
      "outputs": [
        {
          "output_type": "execute_result",
          "data": {
            "text/plain": [
              "21000"
            ]
          },
          "metadata": {},
          "execution_count": 17
        }
      ]
    },
    {
      "cell_type": "code",
      "source": [
        "input_param = X.shape[1]"
      ],
      "metadata": {
        "id": "s_HPSDguuyPC"
      },
      "execution_count": 18,
      "outputs": []
    },
    {
      "cell_type": "code",
      "metadata": {
        "id": "4PYGmQT6Ratp"
      },
      "source": [
        "# Create a network with 1 linear unit\n",
        "model = keras.Sequential([\n",
        "    layers.Dense(units=512, input_shape=[input_param], activation='relu'),\n",
        "    layers.Dense(units=1024, activation='relu'),\n",
        "    layers.Dropout(0.2),\n",
        "    # layers.BatchNormalization(),\n",
        "    layers.Dense(units=512, activation='relu'),\n",
        "    layers.Dropout(0.2),\n",
        "    # layers.BatchNormalization(),\n",
        "    layers.Dense(units=128, activation='relu'),\n",
        "    layers.Dropout(0.2),\n",
        "    layers.BatchNormalization(),\n",
        "    layers.Dense(units=32, activation='relu'),\n",
        "    layers.Dense(units = 1, activation = 'sigmoid')\n",
        "])"
      ],
      "execution_count": 19,
      "outputs": []
    },
    {
      "cell_type": "code",
      "metadata": {
        "id": "cu-WJLDdaxSN"
      },
      "source": [
        "# model.add(layers.Dense(units = 1, activation = 'sigmoid'))"
      ],
      "execution_count": 20,
      "outputs": []
    },
    {
      "cell_type": "code",
      "metadata": {
        "colab": {
          "base_uri": "https://localhost:8080/"
        },
        "id": "p5klIrtTReci",
        "outputId": "f7117ce1-1159-4bf0-e5f2-65c96798aa5c"
      },
      "source": [
        "model.summary()"
      ],
      "execution_count": 21,
      "outputs": [
        {
          "output_type": "stream",
          "name": "stdout",
          "text": [
            "Model: \"sequential\"\n",
            "_________________________________________________________________\n",
            " Layer (type)                Output Shape              Param #   \n",
            "=================================================================\n",
            " dense (Dense)               (None, 512)               5120      \n",
            "                                                                 \n",
            " dense_1 (Dense)             (None, 1024)              525312    \n",
            "                                                                 \n",
            " dropout (Dropout)           (None, 1024)              0         \n",
            "                                                                 \n",
            " dense_2 (Dense)             (None, 512)               524800    \n",
            "                                                                 \n",
            " dropout_1 (Dropout)         (None, 512)               0         \n",
            "                                                                 \n",
            " dense_3 (Dense)             (None, 128)               65664     \n",
            "                                                                 \n",
            " dropout_2 (Dropout)         (None, 128)               0         \n",
            "                                                                 \n",
            " batch_normalization (Batch  (None, 128)               512       \n",
            " Normalization)                                                  \n",
            "                                                                 \n",
            " dense_4 (Dense)             (None, 32)                4128      \n",
            "                                                                 \n",
            " dense_5 (Dense)             (None, 1)                 33        \n",
            "                                                                 \n",
            "=================================================================\n",
            "Total params: 1125569 (4.29 MB)\n",
            "Trainable params: 1125313 (4.29 MB)\n",
            "Non-trainable params: 256 (1.00 KB)\n",
            "_________________________________________________________________\n"
          ]
        }
      ]
    },
    {
      "cell_type": "code",
      "metadata": {
        "id": "n0zrA0dqa_DD"
      },
      "source": [
        "#compile the model\n",
        "model.compile(optimizer = 'adam' ,\n",
        "             loss = 'binary_crossentropy',\n",
        "             metrics =['accuracy'])"
      ],
      "execution_count": 22,
      "outputs": []
    },
    {
      "cell_type": "code",
      "metadata": {
        "id": "BdUE1QJsbC-K",
        "outputId": "674835e1-03c7-4f7b-cfae-ebb2d858a041",
        "colab": {
          "base_uri": "https://localhost:8080/"
        }
      },
      "source": [
        "model.fit(X_train, y_train, epochs=100,shuffle = True, verbose =2)"
      ],
      "execution_count": 23,
      "outputs": [
        {
          "output_type": "stream",
          "name": "stdout",
          "text": [
            "Epoch 1/100\n",
            "657/657 - 8s - loss: 0.4907 - accuracy: 0.7918 - 8s/epoch - 12ms/step\n",
            "Epoch 2/100\n",
            "657/657 - 3s - loss: 0.4643 - accuracy: 0.8007 - 3s/epoch - 4ms/step\n",
            "Epoch 3/100\n",
            "657/657 - 2s - loss: 0.4592 - accuracy: 0.8050 - 2s/epoch - 4ms/step\n",
            "Epoch 4/100\n",
            "657/657 - 2s - loss: 0.4581 - accuracy: 0.8018 - 2s/epoch - 4ms/step\n",
            "Epoch 5/100\n",
            "657/657 - 2s - loss: 0.4570 - accuracy: 0.8025 - 2s/epoch - 4ms/step\n",
            "Epoch 6/100\n",
            "657/657 - 2s - loss: 0.4550 - accuracy: 0.8018 - 2s/epoch - 4ms/step\n",
            "Epoch 7/100\n",
            "657/657 - 2s - loss: 0.4538 - accuracy: 0.8030 - 2s/epoch - 4ms/step\n",
            "Epoch 8/100\n",
            "657/657 - 2s - loss: 0.4540 - accuracy: 0.8024 - 2s/epoch - 4ms/step\n",
            "Epoch 9/100\n",
            "657/657 - 2s - loss: 0.4525 - accuracy: 0.8032 - 2s/epoch - 4ms/step\n",
            "Epoch 10/100\n",
            "657/657 - 2s - loss: 0.4512 - accuracy: 0.8030 - 2s/epoch - 4ms/step\n",
            "Epoch 11/100\n",
            "657/657 - 2s - loss: 0.4508 - accuracy: 0.8045 - 2s/epoch - 4ms/step\n",
            "Epoch 12/100\n",
            "657/657 - 2s - loss: 0.4504 - accuracy: 0.8029 - 2s/epoch - 4ms/step\n",
            "Epoch 13/100\n",
            "657/657 - 2s - loss: 0.4494 - accuracy: 0.8034 - 2s/epoch - 4ms/step\n",
            "Epoch 14/100\n",
            "657/657 - 2s - loss: 0.4514 - accuracy: 0.8043 - 2s/epoch - 4ms/step\n",
            "Epoch 15/100\n",
            "657/657 - 2s - loss: 0.4483 - accuracy: 0.8042 - 2s/epoch - 4ms/step\n",
            "Epoch 16/100\n",
            "657/657 - 3s - loss: 0.4472 - accuracy: 0.8059 - 3s/epoch - 4ms/step\n",
            "Epoch 17/100\n",
            "657/657 - 2s - loss: 0.4479 - accuracy: 0.8037 - 2s/epoch - 4ms/step\n",
            "Epoch 18/100\n",
            "657/657 - 2s - loss: 0.4471 - accuracy: 0.8048 - 2s/epoch - 4ms/step\n",
            "Epoch 19/100\n",
            "657/657 - 2s - loss: 0.4454 - accuracy: 0.8039 - 2s/epoch - 4ms/step\n",
            "Epoch 20/100\n",
            "657/657 - 2s - loss: 0.4452 - accuracy: 0.8060 - 2s/epoch - 4ms/step\n",
            "Epoch 21/100\n",
            "657/657 - 2s - loss: 0.4441 - accuracy: 0.8034 - 2s/epoch - 4ms/step\n",
            "Epoch 22/100\n",
            "657/657 - 2s - loss: 0.4450 - accuracy: 0.8051 - 2s/epoch - 4ms/step\n",
            "Epoch 23/100\n",
            "657/657 - 2s - loss: 0.4443 - accuracy: 0.8046 - 2s/epoch - 4ms/step\n",
            "Epoch 24/100\n",
            "657/657 - 2s - loss: 0.4443 - accuracy: 0.8045 - 2s/epoch - 4ms/step\n",
            "Epoch 25/100\n",
            "657/657 - 3s - loss: 0.4432 - accuracy: 0.8041 - 3s/epoch - 4ms/step\n",
            "Epoch 26/100\n",
            "657/657 - 2s - loss: 0.4417 - accuracy: 0.8054 - 2s/epoch - 4ms/step\n",
            "Epoch 27/100\n",
            "657/657 - 2s - loss: 0.4426 - accuracy: 0.8062 - 2s/epoch - 4ms/step\n",
            "Epoch 28/100\n",
            "657/657 - 2s - loss: 0.4417 - accuracy: 0.8050 - 2s/epoch - 4ms/step\n",
            "Epoch 29/100\n",
            "657/657 - 2s - loss: 0.4403 - accuracy: 0.8057 - 2s/epoch - 4ms/step\n",
            "Epoch 30/100\n",
            "657/657 - 3s - loss: 0.4402 - accuracy: 0.8043 - 3s/epoch - 4ms/step\n",
            "Epoch 31/100\n",
            "657/657 - 2s - loss: 0.4398 - accuracy: 0.8051 - 2s/epoch - 4ms/step\n",
            "Epoch 32/100\n",
            "657/657 - 2s - loss: 0.4386 - accuracy: 0.8048 - 2s/epoch - 4ms/step\n",
            "Epoch 33/100\n",
            "657/657 - 2s - loss: 0.4376 - accuracy: 0.8064 - 2s/epoch - 4ms/step\n",
            "Epoch 34/100\n",
            "657/657 - 2s - loss: 0.4373 - accuracy: 0.8065 - 2s/epoch - 4ms/step\n",
            "Epoch 35/100\n",
            "657/657 - 2s - loss: 0.4356 - accuracy: 0.8060 - 2s/epoch - 4ms/step\n",
            "Epoch 36/100\n",
            "657/657 - 2s - loss: 0.4351 - accuracy: 0.8067 - 2s/epoch - 4ms/step\n",
            "Epoch 37/100\n",
            "657/657 - 2s - loss: 0.4377 - accuracy: 0.8064 - 2s/epoch - 4ms/step\n",
            "Epoch 38/100\n",
            "657/657 - 2s - loss: 0.4361 - accuracy: 0.8070 - 2s/epoch - 4ms/step\n",
            "Epoch 39/100\n",
            "657/657 - 3s - loss: 0.4327 - accuracy: 0.8054 - 3s/epoch - 4ms/step\n",
            "Epoch 40/100\n",
            "657/657 - 2s - loss: 0.4310 - accuracy: 0.8066 - 2s/epoch - 4ms/step\n",
            "Epoch 41/100\n",
            "657/657 - 2s - loss: 0.4298 - accuracy: 0.8073 - 2s/epoch - 4ms/step\n",
            "Epoch 42/100\n",
            "657/657 - 2s - loss: 0.4304 - accuracy: 0.8070 - 2s/epoch - 4ms/step\n",
            "Epoch 43/100\n",
            "657/657 - 2s - loss: 0.4306 - accuracy: 0.8070 - 2s/epoch - 4ms/step\n",
            "Epoch 44/100\n",
            "657/657 - 3s - loss: 0.4276 - accuracy: 0.8072 - 3s/epoch - 4ms/step\n",
            "Epoch 45/100\n",
            "657/657 - 2s - loss: 0.4294 - accuracy: 0.8063 - 2s/epoch - 4ms/step\n",
            "Epoch 46/100\n",
            "657/657 - 2s - loss: 0.4285 - accuracy: 0.8080 - 2s/epoch - 4ms/step\n",
            "Epoch 47/100\n",
            "657/657 - 2s - loss: 0.4270 - accuracy: 0.8091 - 2s/epoch - 4ms/step\n",
            "Epoch 48/100\n",
            "657/657 - 2s - loss: 0.4225 - accuracy: 0.8106 - 2s/epoch - 4ms/step\n",
            "Epoch 49/100\n",
            "657/657 - 3s - loss: 0.4231 - accuracy: 0.8092 - 3s/epoch - 4ms/step\n",
            "Epoch 50/100\n",
            "657/657 - 2s - loss: 0.4241 - accuracy: 0.8089 - 2s/epoch - 4ms/step\n",
            "Epoch 51/100\n",
            "657/657 - 2s - loss: 0.4194 - accuracy: 0.8102 - 2s/epoch - 4ms/step\n",
            "Epoch 52/100\n",
            "657/657 - 2s - loss: 0.4194 - accuracy: 0.8101 - 2s/epoch - 4ms/step\n",
            "Epoch 53/100\n",
            "657/657 - 3s - loss: 0.4189 - accuracy: 0.8099 - 3s/epoch - 4ms/step\n",
            "Epoch 54/100\n",
            "657/657 - 2s - loss: 0.4178 - accuracy: 0.8108 - 2s/epoch - 4ms/step\n",
            "Epoch 55/100\n",
            "657/657 - 3s - loss: 0.4177 - accuracy: 0.8114 - 3s/epoch - 4ms/step\n",
            "Epoch 56/100\n",
            "657/657 - 2s - loss: 0.4156 - accuracy: 0.8120 - 2s/epoch - 4ms/step\n",
            "Epoch 57/100\n",
            "657/657 - 2s - loss: 0.4143 - accuracy: 0.8133 - 2s/epoch - 4ms/step\n",
            "Epoch 58/100\n",
            "657/657 - 3s - loss: 0.4142 - accuracy: 0.8107 - 3s/epoch - 4ms/step\n",
            "Epoch 59/100\n",
            "657/657 - 2s - loss: 0.4110 - accuracy: 0.8134 - 2s/epoch - 4ms/step\n",
            "Epoch 60/100\n",
            "657/657 - 2s - loss: 0.4083 - accuracy: 0.8144 - 2s/epoch - 4ms/step\n",
            "Epoch 61/100\n",
            "657/657 - 2s - loss: 0.4095 - accuracy: 0.8154 - 2s/epoch - 4ms/step\n",
            "Epoch 62/100\n",
            "657/657 - 2s - loss: 0.4083 - accuracy: 0.8136 - 2s/epoch - 4ms/step\n",
            "Epoch 63/100\n",
            "657/657 - 3s - loss: 0.4072 - accuracy: 0.8143 - 3s/epoch - 4ms/step\n",
            "Epoch 64/100\n",
            "657/657 - 2s - loss: 0.4062 - accuracy: 0.8133 - 2s/epoch - 4ms/step\n",
            "Epoch 65/100\n",
            "657/657 - 3s - loss: 0.4035 - accuracy: 0.8140 - 3s/epoch - 4ms/step\n",
            "Epoch 66/100\n",
            "657/657 - 2s - loss: 0.4015 - accuracy: 0.8154 - 2s/epoch - 4ms/step\n",
            "Epoch 67/100\n",
            "657/657 - 3s - loss: 0.3973 - accuracy: 0.8182 - 3s/epoch - 4ms/step\n",
            "Epoch 68/100\n",
            "657/657 - 2s - loss: 0.3976 - accuracy: 0.8164 - 2s/epoch - 4ms/step\n",
            "Epoch 69/100\n",
            "657/657 - 2s - loss: 0.3965 - accuracy: 0.8186 - 2s/epoch - 4ms/step\n",
            "Epoch 70/100\n",
            "657/657 - 2s - loss: 0.3951 - accuracy: 0.8172 - 2s/epoch - 4ms/step\n",
            "Epoch 71/100\n",
            "657/657 - 2s - loss: 0.3958 - accuracy: 0.8170 - 2s/epoch - 4ms/step\n",
            "Epoch 72/100\n",
            "657/657 - 2s - loss: 0.3927 - accuracy: 0.8189 - 2s/epoch - 4ms/step\n",
            "Epoch 73/100\n",
            "657/657 - 2s - loss: 0.3904 - accuracy: 0.8199 - 2s/epoch - 4ms/step\n",
            "Epoch 74/100\n",
            "657/657 - 2s - loss: 0.3941 - accuracy: 0.8178 - 2s/epoch - 4ms/step\n",
            "Epoch 75/100\n",
            "657/657 - 2s - loss: 0.3901 - accuracy: 0.8203 - 2s/epoch - 4ms/step\n",
            "Epoch 76/100\n",
            "657/657 - 3s - loss: 0.3881 - accuracy: 0.8188 - 3s/epoch - 4ms/step\n",
            "Epoch 77/100\n",
            "657/657 - 2s - loss: 0.3843 - accuracy: 0.8236 - 2s/epoch - 4ms/step\n",
            "Epoch 78/100\n",
            "657/657 - 3s - loss: 0.3817 - accuracy: 0.8237 - 3s/epoch - 4ms/step\n",
            "Epoch 79/100\n",
            "657/657 - 2s - loss: 0.3811 - accuracy: 0.8246 - 2s/epoch - 4ms/step\n",
            "Epoch 80/100\n",
            "657/657 - 2s - loss: 0.3814 - accuracy: 0.8232 - 2s/epoch - 4ms/step\n",
            "Epoch 81/100\n",
            "657/657 - 3s - loss: 0.3826 - accuracy: 0.8227 - 3s/epoch - 4ms/step\n",
            "Epoch 82/100\n",
            "657/657 - 2s - loss: 0.3784 - accuracy: 0.8251 - 2s/epoch - 4ms/step\n",
            "Epoch 83/100\n",
            "657/657 - 2s - loss: 0.3737 - accuracy: 0.8263 - 2s/epoch - 4ms/step\n",
            "Epoch 84/100\n",
            "657/657 - 2s - loss: 0.3741 - accuracy: 0.8269 - 2s/epoch - 4ms/step\n",
            "Epoch 85/100\n",
            "657/657 - 2s - loss: 0.3749 - accuracy: 0.8265 - 2s/epoch - 4ms/step\n",
            "Epoch 86/100\n",
            "657/657 - 2s - loss: 0.3721 - accuracy: 0.8285 - 2s/epoch - 4ms/step\n",
            "Epoch 87/100\n",
            "657/657 - 2s - loss: 0.3689 - accuracy: 0.8278 - 2s/epoch - 4ms/step\n",
            "Epoch 88/100\n",
            "657/657 - 2s - loss: 0.3681 - accuracy: 0.8304 - 2s/epoch - 4ms/step\n",
            "Epoch 89/100\n",
            "657/657 - 2s - loss: 0.3652 - accuracy: 0.8299 - 2s/epoch - 4ms/step\n",
            "Epoch 90/100\n",
            "657/657 - 3s - loss: 0.3653 - accuracy: 0.8299 - 3s/epoch - 4ms/step\n",
            "Epoch 91/100\n",
            "657/657 - 2s - loss: 0.3624 - accuracy: 0.8336 - 2s/epoch - 4ms/step\n",
            "Epoch 92/100\n",
            "657/657 - 2s - loss: 0.3606 - accuracy: 0.8328 - 2s/epoch - 4ms/step\n",
            "Epoch 93/100\n",
            "657/657 - 2s - loss: 0.3599 - accuracy: 0.8335 - 2s/epoch - 4ms/step\n",
            "Epoch 94/100\n",
            "657/657 - 2s - loss: 0.3555 - accuracy: 0.8362 - 2s/epoch - 4ms/step\n",
            "Epoch 95/100\n",
            "657/657 - 3s - loss: 0.3564 - accuracy: 0.8344 - 3s/epoch - 4ms/step\n",
            "Epoch 96/100\n",
            "657/657 - 2s - loss: 0.3557 - accuracy: 0.8352 - 2s/epoch - 4ms/step\n",
            "Epoch 97/100\n",
            "657/657 - 2s - loss: 0.3525 - accuracy: 0.8362 - 2s/epoch - 4ms/step\n",
            "Epoch 98/100\n",
            "657/657 - 2s - loss: 0.3519 - accuracy: 0.8371 - 2s/epoch - 4ms/step\n",
            "Epoch 99/100\n",
            "657/657 - 2s - loss: 0.3504 - accuracy: 0.8389 - 2s/epoch - 4ms/step\n",
            "Epoch 100/100\n",
            "657/657 - 2s - loss: 0.3491 - accuracy: 0.8370 - 2s/epoch - 4ms/step\n"
          ]
        },
        {
          "output_type": "execute_result",
          "data": {
            "text/plain": [
              "<keras.src.callbacks.History at 0x7b8b4ff63160>"
            ]
          },
          "metadata": {},
          "execution_count": 23
        }
      ]
    },
    {
      "cell_type": "code",
      "metadata": {
        "id": "v9U8gHKYcHir",
        "outputId": "fa74b8b6-f666-4ef6-9009-8f0b421c8430",
        "colab": {
          "base_uri": "https://localhost:8080/"
        }
      },
      "source": [
        "#quantify the model\n",
        "model_loss, model_accuracy = model.evaluate(X_test,y_test,verbose =2)\n",
        "print( model_loss )\n",
        "print (model_accuracy)"
      ],
      "execution_count": 24,
      "outputs": [
        {
          "output_type": "stream",
          "name": "stdout",
          "text": [
            "282/282 - 1s - loss: 0.5745 - accuracy: 0.7804 - 626ms/epoch - 2ms/step\n",
            "0.5745176076889038\n",
            "0.7804444432258606\n"
          ]
        }
      ]
    },
    {
      "cell_type": "code",
      "metadata": {
        "id": "6QeLPBQDcM47"
      },
      "source": [
        "from sklearn.metrics import recall_score"
      ],
      "execution_count": 25,
      "outputs": []
    },
    {
      "cell_type": "code",
      "metadata": {
        "id": "KcO89d6hcO3b",
        "outputId": "2cd86aac-9dd5-4a09-cc96-10a11376b667",
        "colab": {
          "base_uri": "https://localhost:8080/"
        }
      },
      "source": [
        "y_prediction = model.predict(X_test)"
      ],
      "execution_count": 26,
      "outputs": [
        {
          "output_type": "stream",
          "name": "stdout",
          "text": [
            "282/282 [==============================] - 1s 2ms/step\n"
          ]
        }
      ]
    },
    {
      "cell_type": "code",
      "metadata": {
        "id": "kCD8Uc5NcjW0",
        "outputId": "fb5bc687-0f75-43ab-fafa-f05784526706",
        "colab": {
          "base_uri": "https://localhost:8080/"
        }
      },
      "source": [
        "y_prediction[:3]"
      ],
      "execution_count": 27,
      "outputs": [
        {
          "output_type": "execute_result",
          "data": {
            "text/plain": [
              "array([[0.22209647],\n",
              "       [0.00252762],\n",
              "       [0.10648771]], dtype=float32)"
            ]
          },
          "metadata": {},
          "execution_count": 27
        }
      ]
    },
    {
      "cell_type": "code",
      "metadata": {
        "id": "QNpfE-h_epqL"
      },
      "source": [
        "predictions = np.rint(y_prediction)"
      ],
      "execution_count": 28,
      "outputs": []
    },
    {
      "cell_type": "code",
      "metadata": {
        "id": "IbWFqrl5cVWT",
        "outputId": "d583030c-d99b-46bd-809d-928a121c957e",
        "colab": {
          "base_uri": "https://localhost:8080/"
        }
      },
      "source": [
        "print(\"Recall score:\"+ str(recall_score(y_test, predictions)))"
      ],
      "execution_count": 29,
      "outputs": [
        {
          "output_type": "stream",
          "name": "stdout",
          "text": [
            "Recall score:0.3576530612244898\n"
          ]
        }
      ]
    },
    {
      "cell_type": "code",
      "source": [
        "from sklearn.metrics import confusion_matrix\n",
        "import itertools\n",
        "import matplotlib\n",
        "import numpy as np\n",
        "import matplotlib.pyplot as plt\n",
        "%matplotlib inline\n",
        "import numpy as np"
      ],
      "metadata": {
        "id": "MwKbzpAx5lBs"
      },
      "execution_count": 30,
      "outputs": []
    },
    {
      "cell_type": "code",
      "source": [
        "def plot_confusion_matrix(cm, classes,\n",
        "                          normalize=False,\n",
        "                          title='Confusion matrix',\n",
        "                          cmap=plt.cm.Blues):\n",
        "    if normalize:\n",
        "        cm = cm.astype('float') / cm.sum(axis=1)[:, np.newaxis]\n",
        "        print(\"Normalized confusion matrix\")\n",
        "    else:\n",
        "        print('Confusion matrix, without normalization')\n",
        "\n",
        "    print(cm)\n",
        "\n",
        "    plt.imshow(cm, interpolation='nearest', cmap=cmap)\n",
        "    plt.title(title)\n",
        "    plt.colorbar()\n",
        "    tick_marks = np.arange(len(classes))\n",
        "    plt.xticks(tick_marks, classes, rotation=45)\n",
        "    plt.yticks(tick_marks, classes)\n",
        "\n",
        "    fmt = '.2f' if normalize else 'd'\n",
        "    thresh = cm.max() / 2.\n",
        "    for i, j in itertools.product(range(cm.shape[0]), range(cm.shape[1])):\n",
        "        plt.text(j, i, format(cm[i, j], fmt),\n",
        "                 horizontalalignment=\"center\",\n",
        "                 color=\"white\" if cm[i, j] > thresh else \"black\")"
      ],
      "metadata": {
        "id": "2S87zEUE5mgs"
      },
      "execution_count": 31,
      "outputs": []
    },
    {
      "cell_type": "code",
      "source": [
        "cnf_matrix = confusion_matrix(y_test, predictions)\n",
        "plt.figure()\n",
        "plot_confusion_matrix(cnf_matrix, classes=['Non_Default','Default'], normalize=False,\n",
        "                      title='Non Normalized confusion matrix')"
      ],
      "metadata": {
        "colab": {
          "base_uri": "https://localhost:8080/",
          "height": 563
        },
        "id": "NrB4Je465uMh",
        "outputId": "c4d93b87-d99e-4390-e4e2-1d8bced86f4e"
      },
      "execution_count": 32,
      "outputs": [
        {
          "output_type": "stream",
          "name": "stdout",
          "text": [
            "Confusion matrix, without normalization\n",
            "[[6323  717]\n",
            " [1259  701]]\n"
          ]
        },
        {
          "output_type": "display_data",
          "data": {
            "text/plain": [
              "<Figure size 640x480 with 2 Axes>"
            ],
            "image/png": "[encoded data removed]"
          },
          "metadata": {}
        }
      ]
    }
  ]
}