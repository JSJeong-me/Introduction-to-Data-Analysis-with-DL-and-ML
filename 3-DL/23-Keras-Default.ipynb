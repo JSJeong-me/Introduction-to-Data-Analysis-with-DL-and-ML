{
  "nbformat": 4,
  "nbformat_minor": 0,
  "metadata": {
    "colab": {
      "name": "Untitled21.ipynb",
      "provenance": [],
      "machine_shape": "hm",
      "gpuType": "V100",
      "authorship_tag": "ABX9TyP0p9zA7bUoJoOrkOAgyAU5",
      "include_colab_link": true
    },
    "kernelspec": {
      "name": "python3",
      "display_name": "Python 3"
    },
    "language_info": {
      "name": "python"
    },
    "accelerator": "GPU"
  },
  "cells": [
    {
      "cell_type": "markdown",
      "metadata": {
        "id": "view-in-github",
        "colab_type": "text"
      },
      "source": [
        "<a href=\"https://colab.research.google.com/github/JSJeong-me/Introduction-to-Data-Analysis-with-DL-and-ML/blob/main/3-DL/23-Keras-Default.ipynb\" target=\"_parent\"><img src=\"https://colab.research.google.com/assets/colab-badge.svg\" alt=\"Open In Colab\"/></a>"
      ]
    },
    {
      "cell_type": "code",
      "metadata": {
        "id": "rIVQr8rkRSzo"
      },
      "source": [
        "import tensorflow as tf"
      ],
      "execution_count": 1,
      "outputs": []
    },
    {
      "cell_type": "code",
      "metadata": {
        "id": "K-LyBvtlRXLx"
      },
      "source": [
        "from tensorflow import keras\n",
        "from tensorflow.keras import layers"
      ],
      "execution_count": 2,
      "outputs": []
    },
    {
      "cell_type": "markdown",
      "metadata": {
        "id": "o8P-5vWCbFX6"
      },
      "source": [
        "Data Set Preparation"
      ]
    },
    {
      "cell_type": "code",
      "metadata": {
        "id": "63-1k-fkbJZr"
      },
      "source": [
        "from sklearn.model_selection import train_test_split\n",
        "import pandas as pd\n",
        "import numpy as np\n",
        "from sklearn.preprocessing import StandardScaler"
      ],
      "execution_count": 3,
      "outputs": []
    },
    {
      "cell_type": "code",
      "metadata": {
        "id": "RRCFJZynbcDk"
      },
      "source": [
        "df = pd.read_csv(\"./Data_USD.csv\")"
      ],
      "execution_count": 4,
      "outputs": []
    },
    {
      "cell_type": "code",
      "source": [
        "df.tail()"
      ],
      "metadata": {
        "id": "CfTlrXEqs7mI"
      },
      "execution_count": null,
      "outputs": []
    },
    {
      "cell_type": "code",
      "source": [
        "df.columns"
      ],
      "metadata": {
        "colab": {
          "base_uri": "https://localhost:8080/"
        },
        "id": "rtFNgvfKyEfT",
        "outputId": "cd5ef7d1-c4f7-4082-ef5f-336ca80ae1ed"
      },
      "execution_count": 6,
      "outputs": [
        {
          "output_type": "execute_result",
          "data": {
            "text/plain": [
              "Index(['LIMIT_BAL_US', 'SEX', 'EDUCATION', 'MARRIAGE', 'AGE', 'PAY_SCORE_AVG',\n",
              "       'BILL_AVG_US', 'PAY_AMT_AVG_US', 'PAY_TO_BILL', 'CREDIT_UTILIZATION',\n",
              "       'DEFAULT_PAYMENT_NEXT_MO'],\n",
              "      dtype='object')"
            ]
          },
          "metadata": {},
          "execution_count": 6
        }
      ]
    },
    {
      "cell_type": "code",
      "metadata": {
        "id": "tFoTnb3KbiW1"
      },
      "source": [
        "X = df.drop('DEFAULT_PAYMENT_NEXT_MO',axis =1).values\n",
        "y = df['DEFAULT_PAYMENT_NEXT_MO'].values"
      ],
      "execution_count": 7,
      "outputs": []
    },
    {
      "cell_type": "code",
      "source": [
        "X[-1]"
      ],
      "metadata": {
        "colab": {
          "base_uri": "https://localhost:8080/"
        },
        "id": "OM-6d4W0tHLq",
        "outputId": "ca72817a-af01-46f4-a7b3-fafac6fc66a3"
      },
      "execution_count": 8,
      "outputs": [
        {
          "output_type": "execute_result",
          "data": {
            "text/plain": [
              "array([1.81428571e+03, 1.00000000e+00, 2.00000000e+00, 1.00000000e+00,\n",
              "       4.60000000e+01, 0.00000000e+00, 1.39623800e+03, 5.02436190e+01,\n",
              "       4.00000000e-02, 9.58580000e-01])"
            ]
          },
          "metadata": {},
          "execution_count": 8
        }
      ]
    },
    {
      "cell_type": "code",
      "source": [
        "y[-1]"
      ],
      "metadata": {
        "colab": {
          "base_uri": "https://localhost:8080/"
        },
        "id": "FhW6AfqatO7r",
        "outputId": "2133cd4c-bd3a-4c6d-f4ae-f243f0fb131b"
      },
      "execution_count": 9,
      "outputs": [
        {
          "output_type": "execute_result",
          "data": {
            "text/plain": [
              "1"
            ]
          },
          "metadata": {},
          "execution_count": 9
        }
      ]
    },
    {
      "cell_type": "code",
      "metadata": {
        "id": "EGv9KO1ubnCN"
      },
      "source": [
        "X_train, X_test, y_train, y_test = train_test_split(X, y, test_size=0.3, random_state=42)"
      ],
      "execution_count": 10,
      "outputs": []
    },
    {
      "cell_type": "code",
      "source": [
        "len(X_test)"
      ],
      "metadata": {
        "colab": {
          "base_uri": "https://localhost:8080/"
        },
        "id": "qi57UJwZtUCB",
        "outputId": "6752e7af-aca5-4319-e9aa-666cf2147ea8"
      },
      "execution_count": 11,
      "outputs": [
        {
          "output_type": "execute_result",
          "data": {
            "text/plain": [
              "9000"
            ]
          },
          "metadata": {},
          "execution_count": 11
        }
      ]
    },
    {
      "cell_type": "code",
      "source": [
        "sc = StandardScaler()"
      ],
      "metadata": {
        "id": "6lhCHUV4th-e"
      },
      "execution_count": 12,
      "outputs": []
    },
    {
      "cell_type": "code",
      "metadata": {
        "id": "AaEgKOqpbqTV"
      },
      "source": [
        "X_train = sc.fit_transform(X_train)\n",
        "X_test = sc.transform(X_test)"
      ],
      "execution_count": 13,
      "outputs": []
    },
    {
      "cell_type": "code",
      "source": [
        "X_train[-1]"
      ],
      "metadata": {
        "colab": {
          "base_uri": "https://localhost:8080/"
        },
        "id": "QUFq51M7uCkg",
        "outputId": "63554cac-1a0f-45b7-c343-7f4591995657"
      },
      "execution_count": 14,
      "outputs": [
        {
          "output_type": "execute_result",
          "data": {
            "text/plain": [
              "array([-0.05504288,  0.80648893,  0.18648797, -1.05381817,  0.05416417,\n",
              "       -1.84759474, -0.65392199, -0.11985747,  0.10229889, -1.02579807])"
            ]
          },
          "metadata": {},
          "execution_count": 14
        }
      ]
    },
    {
      "cell_type": "code",
      "source": [
        "X_test[-1]"
      ],
      "metadata": {
        "colab": {
          "base_uri": "https://localhost:8080/"
        },
        "id": "5pRiY_7eudQL",
        "outputId": "c408a86a-f760-4374-8a44-bc2e92748503"
      },
      "execution_count": 15,
      "outputs": [
        {
          "output_type": "execute_result",
          "data": {
            "text/plain": [
              "array([ 0.64128415,  0.80648893, -1.07681763, -1.05381817,  0.05416417,\n",
              "       -1.84759474, -0.65301532, -0.03974819,  0.13364524, -1.00113854])"
            ]
          },
          "metadata": {},
          "execution_count": 15
        }
      ]
    },
    {
      "cell_type": "code",
      "source": [
        "len(X_train)"
      ],
      "metadata": {
        "colab": {
          "base_uri": "https://localhost:8080/"
        },
        "id": "qCurEV2Lukvt",
        "outputId": "d8aea9e7-6a26-45dc-d543-9fe5907b332e"
      },
      "execution_count": 16,
      "outputs": [
        {
          "output_type": "execute_result",
          "data": {
            "text/plain": [
              "21000"
            ]
          },
          "metadata": {},
          "execution_count": 16
        }
      ]
    },
    {
      "cell_type": "code",
      "source": [
        "input_param = X.shape[1]"
      ],
      "metadata": {
        "id": "s_HPSDguuyPC"
      },
      "execution_count": 17,
      "outputs": []
    },
    {
      "cell_type": "code",
      "metadata": {
        "id": "4PYGmQT6Ratp"
      },
      "source": [
        "# Create a network with 1 linear unit\n",
        "model = keras.Sequential([\n",
        "    layers.Dense(units=512, input_shape=[input_param], activation='relu'),\n",
        "    layers.Dense(units=1024, activation='relu'),\n",
        "    layers.Dropout(0.2),\n",
        "    # layers.BatchNormalization(),\n",
        "    layers.Dense(units=512, activation='relu'),\n",
        "    layers.Dropout(0.2),\n",
        "    # layers.BatchNormalization(),\n",
        "    layers.Dense(units=128, activation='relu'),\n",
        "    layers.Dropout(0.2),\n",
        "    layers.BatchNormalization(),\n",
        "    layers.Dense(units=32, activation='relu'),\n",
        "    layers.Dense(units = 1, activation = 'sigmoid')\n",
        "])"
      ],
      "execution_count": 18,
      "outputs": []
    },
    {
      "cell_type": "code",
      "metadata": {
        "id": "cu-WJLDdaxSN"
      },
      "source": [
        "# model.add(layers.Dense(units = 1, activation = 'sigmoid'))"
      ],
      "execution_count": 19,
      "outputs": []
    },
    {
      "cell_type": "code",
      "metadata": {
        "colab": {
          "base_uri": "https://localhost:8080/"
        },
        "id": "p5klIrtTReci",
        "outputId": "20b3d716-73e0-4ebd-e942-82384e0cddf0"
      },
      "source": [
        "model.summary()"
      ],
      "execution_count": 20,
      "outputs": [
        {
          "output_type": "stream",
          "name": "stdout",
          "text": [
            "Model: \"sequential\"\n",
            "_________________________________________________________________\n",
            " Layer (type)                Output Shape              Param #   \n",
            "=================================================================\n",
            " dense (Dense)               (None, 512)               5632      \n",
            "                                                                 \n",
            " dense_1 (Dense)             (None, 1024)              525312    \n",
            "                                                                 \n",
            " dropout (Dropout)           (None, 1024)              0         \n",
            "                                                                 \n",
            " dense_2 (Dense)             (None, 512)               524800    \n",
            "                                                                 \n",
            " dropout_1 (Dropout)         (None, 512)               0         \n",
            "                                                                 \n",
            " dense_3 (Dense)             (None, 128)               65664     \n",
            "                                                                 \n",
            " dropout_2 (Dropout)         (None, 128)               0         \n",
            "                                                                 \n",
            " batch_normalization (Batch  (None, 128)               512       \n",
            " Normalization)                                                  \n",
            "                                                                 \n",
            " dense_4 (Dense)             (None, 32)                4128      \n",
            "                                                                 \n",
            " dense_5 (Dense)             (None, 1)                 33        \n",
            "                                                                 \n",
            "=================================================================\n",
            "Total params: 1126081 (4.30 MB)\n",
            "Trainable params: 1125825 (4.29 MB)\n",
            "Non-trainable params: 256 (1.00 KB)\n",
            "_________________________________________________________________\n"
          ]
        }
      ]
    },
    {
      "cell_type": "code",
      "metadata": {
        "id": "n0zrA0dqa_DD"
      },
      "source": [
        "#compile the model\n",
        "model.compile(optimizer = 'adam' ,\n",
        "             loss = 'binary_crossentropy',\n",
        "             metrics =['accuracy'])"
      ],
      "execution_count": 21,
      "outputs": []
    },
    {
      "cell_type": "code",
      "metadata": {
        "id": "BdUE1QJsbC-K",
        "outputId": "2530a323-d45e-41f4-880b-b671a43100bf",
        "colab": {
          "base_uri": "https://localhost:8080/"
        }
      },
      "source": [
        "model.fit(X_train, y_train, epochs=100,shuffle = True, verbose =2)"
      ],
      "execution_count": 22,
      "outputs": [
        {
          "output_type": "stream",
          "name": "stdout",
          "text": [
            "Epoch 1/100\n",
            "657/657 - 8s - loss: 0.4865 - accuracy: 0.7921 - 8s/epoch - 12ms/step\n",
            "Epoch 2/100\n",
            "657/657 - 3s - loss: 0.4637 - accuracy: 0.8011 - 3s/epoch - 4ms/step\n",
            "Epoch 3/100\n",
            "657/657 - 3s - loss: 0.4593 - accuracy: 0.8035 - 3s/epoch - 4ms/step\n",
            "Epoch 4/100\n",
            "657/657 - 3s - loss: 0.4565 - accuracy: 0.8029 - 3s/epoch - 4ms/step\n",
            "Epoch 5/100\n",
            "657/657 - 3s - loss: 0.4560 - accuracy: 0.8029 - 3s/epoch - 4ms/step\n",
            "Epoch 6/100\n",
            "657/657 - 3s - loss: 0.4541 - accuracy: 0.8038 - 3s/epoch - 4ms/step\n",
            "Epoch 7/100\n",
            "657/657 - 3s - loss: 0.4522 - accuracy: 0.8028 - 3s/epoch - 4ms/step\n",
            "Epoch 8/100\n",
            "657/657 - 3s - loss: 0.4510 - accuracy: 0.8049 - 3s/epoch - 4ms/step\n",
            "Epoch 9/100\n",
            "657/657 - 3s - loss: 0.4490 - accuracy: 0.8040 - 3s/epoch - 4ms/step\n",
            "Epoch 10/100\n",
            "657/657 - 3s - loss: 0.4498 - accuracy: 0.8025 - 3s/epoch - 4ms/step\n",
            "Epoch 11/100\n",
            "657/657 - 3s - loss: 0.4494 - accuracy: 0.8038 - 3s/epoch - 4ms/step\n",
            "Epoch 12/100\n",
            "657/657 - 3s - loss: 0.4482 - accuracy: 0.8032 - 3s/epoch - 4ms/step\n",
            "Epoch 13/100\n",
            "657/657 - 3s - loss: 0.4476 - accuracy: 0.8042 - 3s/epoch - 4ms/step\n",
            "Epoch 14/100\n",
            "657/657 - 3s - loss: 0.4463 - accuracy: 0.8050 - 3s/epoch - 4ms/step\n",
            "Epoch 15/100\n",
            "657/657 - 3s - loss: 0.4475 - accuracy: 0.8051 - 3s/epoch - 4ms/step\n",
            "Epoch 16/100\n",
            "657/657 - 3s - loss: 0.4468 - accuracy: 0.8040 - 3s/epoch - 4ms/step\n",
            "Epoch 17/100\n",
            "657/657 - 3s - loss: 0.4464 - accuracy: 0.8039 - 3s/epoch - 4ms/step\n",
            "Epoch 18/100\n",
            "657/657 - 3s - loss: 0.4466 - accuracy: 0.8054 - 3s/epoch - 4ms/step\n",
            "Epoch 19/100\n",
            "657/657 - 3s - loss: 0.4452 - accuracy: 0.8049 - 3s/epoch - 4ms/step\n",
            "Epoch 20/100\n",
            "657/657 - 3s - loss: 0.4441 - accuracy: 0.8041 - 3s/epoch - 4ms/step\n",
            "Epoch 21/100\n",
            "657/657 - 3s - loss: 0.4448 - accuracy: 0.8040 - 3s/epoch - 4ms/step\n",
            "Epoch 22/100\n",
            "657/657 - 3s - loss: 0.4424 - accuracy: 0.8059 - 3s/epoch - 4ms/step\n",
            "Epoch 23/100\n",
            "657/657 - 3s - loss: 0.4420 - accuracy: 0.8051 - 3s/epoch - 4ms/step\n",
            "Epoch 24/100\n",
            "657/657 - 3s - loss: 0.4405 - accuracy: 0.8052 - 3s/epoch - 4ms/step\n",
            "Epoch 25/100\n",
            "657/657 - 3s - loss: 0.4421 - accuracy: 0.8067 - 3s/epoch - 4ms/step\n",
            "Epoch 26/100\n",
            "657/657 - 3s - loss: 0.4386 - accuracy: 0.8060 - 3s/epoch - 4ms/step\n",
            "Epoch 27/100\n",
            "657/657 - 3s - loss: 0.4396 - accuracy: 0.8047 - 3s/epoch - 4ms/step\n",
            "Epoch 28/100\n",
            "657/657 - 3s - loss: 0.4406 - accuracy: 0.8047 - 3s/epoch - 4ms/step\n",
            "Epoch 29/100\n",
            "657/657 - 3s - loss: 0.4383 - accuracy: 0.8050 - 3s/epoch - 4ms/step\n",
            "Epoch 30/100\n",
            "657/657 - 3s - loss: 0.4370 - accuracy: 0.8058 - 3s/epoch - 4ms/step\n",
            "Epoch 31/100\n",
            "657/657 - 3s - loss: 0.4357 - accuracy: 0.8061 - 3s/epoch - 4ms/step\n",
            "Epoch 32/100\n",
            "657/657 - 3s - loss: 0.4349 - accuracy: 0.8061 - 3s/epoch - 4ms/step\n",
            "Epoch 33/100\n",
            "657/657 - 3s - loss: 0.4354 - accuracy: 0.8072 - 3s/epoch - 4ms/step\n",
            "Epoch 34/100\n",
            "657/657 - 3s - loss: 0.4340 - accuracy: 0.8087 - 3s/epoch - 4ms/step\n",
            "Epoch 35/100\n",
            "657/657 - 3s - loss: 0.4340 - accuracy: 0.8068 - 3s/epoch - 4ms/step\n",
            "Epoch 36/100\n",
            "657/657 - 3s - loss: 0.4307 - accuracy: 0.8067 - 3s/epoch - 4ms/step\n",
            "Epoch 37/100\n",
            "657/657 - 3s - loss: 0.4303 - accuracy: 0.8068 - 3s/epoch - 4ms/step\n",
            "Epoch 38/100\n",
            "657/657 - 3s - loss: 0.4306 - accuracy: 0.8080 - 3s/epoch - 4ms/step\n",
            "Epoch 39/100\n",
            "657/657 - 3s - loss: 0.4290 - accuracy: 0.8070 - 3s/epoch - 4ms/step\n",
            "Epoch 40/100\n",
            "657/657 - 3s - loss: 0.4280 - accuracy: 0.8073 - 3s/epoch - 4ms/step\n",
            "Epoch 41/100\n",
            "657/657 - 3s - loss: 0.4273 - accuracy: 0.8096 - 3s/epoch - 4ms/step\n",
            "Epoch 42/100\n",
            "657/657 - 3s - loss: 0.4258 - accuracy: 0.8087 - 3s/epoch - 4ms/step\n",
            "Epoch 43/100\n",
            "657/657 - 3s - loss: 0.4263 - accuracy: 0.8081 - 3s/epoch - 4ms/step\n",
            "Epoch 44/100\n",
            "657/657 - 3s - loss: 0.4261 - accuracy: 0.8068 - 3s/epoch - 4ms/step\n",
            "Epoch 45/100\n",
            "657/657 - 3s - loss: 0.4224 - accuracy: 0.8093 - 3s/epoch - 4ms/step\n",
            "Epoch 46/100\n",
            "657/657 - 3s - loss: 0.4216 - accuracy: 0.8093 - 3s/epoch - 4ms/step\n",
            "Epoch 47/100\n",
            "657/657 - 3s - loss: 0.4208 - accuracy: 0.8108 - 3s/epoch - 4ms/step\n",
            "Epoch 48/100\n",
            "657/657 - 3s - loss: 0.4195 - accuracy: 0.8108 - 3s/epoch - 4ms/step\n",
            "Epoch 49/100\n",
            "657/657 - 3s - loss: 0.4166 - accuracy: 0.8117 - 3s/epoch - 4ms/step\n",
            "Epoch 50/100\n",
            "657/657 - 3s - loss: 0.4157 - accuracy: 0.8110 - 3s/epoch - 4ms/step\n",
            "Epoch 51/100\n",
            "657/657 - 3s - loss: 0.4148 - accuracy: 0.8119 - 3s/epoch - 4ms/step\n",
            "Epoch 52/100\n",
            "657/657 - 3s - loss: 0.4137 - accuracy: 0.8119 - 3s/epoch - 4ms/step\n",
            "Epoch 53/100\n",
            "657/657 - 3s - loss: 0.4136 - accuracy: 0.8131 - 3s/epoch - 4ms/step\n",
            "Epoch 54/100\n",
            "657/657 - 3s - loss: 0.4116 - accuracy: 0.8146 - 3s/epoch - 4ms/step\n",
            "Epoch 55/100\n",
            "657/657 - 3s - loss: 0.4079 - accuracy: 0.8139 - 3s/epoch - 4ms/step\n",
            "Epoch 56/100\n",
            "657/657 - 3s - loss: 0.4086 - accuracy: 0.8157 - 3s/epoch - 4ms/step\n",
            "Epoch 57/100\n",
            "657/657 - 3s - loss: 0.4059 - accuracy: 0.8166 - 3s/epoch - 4ms/step\n",
            "Epoch 58/100\n",
            "657/657 - 3s - loss: 0.4036 - accuracy: 0.8177 - 3s/epoch - 4ms/step\n",
            "Epoch 59/100\n",
            "657/657 - 3s - loss: 0.4033 - accuracy: 0.8154 - 3s/epoch - 4ms/step\n",
            "Epoch 60/100\n",
            "657/657 - 3s - loss: 0.4051 - accuracy: 0.8163 - 3s/epoch - 4ms/step\n",
            "Epoch 61/100\n",
            "657/657 - 3s - loss: 0.4001 - accuracy: 0.8199 - 3s/epoch - 4ms/step\n",
            "Epoch 62/100\n",
            "657/657 - 3s - loss: 0.3984 - accuracy: 0.8165 - 3s/epoch - 4ms/step\n",
            "Epoch 63/100\n",
            "657/657 - 3s - loss: 0.3964 - accuracy: 0.8201 - 3s/epoch - 4ms/step\n",
            "Epoch 64/100\n",
            "657/657 - 3s - loss: 0.3960 - accuracy: 0.8210 - 3s/epoch - 4ms/step\n",
            "Epoch 65/100\n",
            "657/657 - 3s - loss: 0.3955 - accuracy: 0.8187 - 3s/epoch - 4ms/step\n",
            "Epoch 66/100\n",
            "657/657 - 3s - loss: 0.3924 - accuracy: 0.8214 - 3s/epoch - 4ms/step\n",
            "Epoch 67/100\n",
            "657/657 - 3s - loss: 0.3894 - accuracy: 0.8220 - 3s/epoch - 4ms/step\n",
            "Epoch 68/100\n",
            "657/657 - 3s - loss: 0.3883 - accuracy: 0.8235 - 3s/epoch - 4ms/step\n",
            "Epoch 69/100\n",
            "657/657 - 3s - loss: 0.3880 - accuracy: 0.8244 - 3s/epoch - 4ms/step\n",
            "Epoch 70/100\n",
            "657/657 - 3s - loss: 0.3880 - accuracy: 0.8231 - 3s/epoch - 4ms/step\n",
            "Epoch 71/100\n",
            "657/657 - 3s - loss: 0.3837 - accuracy: 0.8255 - 3s/epoch - 4ms/step\n",
            "Epoch 72/100\n",
            "657/657 - 3s - loss: 0.3834 - accuracy: 0.8235 - 3s/epoch - 4ms/step\n",
            "Epoch 73/100\n",
            "657/657 - 3s - loss: 0.3789 - accuracy: 0.8278 - 3s/epoch - 4ms/step\n",
            "Epoch 74/100\n",
            "657/657 - 3s - loss: 0.3778 - accuracy: 0.8266 - 3s/epoch - 4ms/step\n",
            "Epoch 75/100\n",
            "657/657 - 3s - loss: 0.3756 - accuracy: 0.8306 - 3s/epoch - 4ms/step\n",
            "Epoch 76/100\n",
            "657/657 - 3s - loss: 0.3758 - accuracy: 0.8288 - 3s/epoch - 4ms/step\n",
            "Epoch 77/100\n",
            "657/657 - 3s - loss: 0.3731 - accuracy: 0.8299 - 3s/epoch - 4ms/step\n",
            "Epoch 78/100\n",
            "657/657 - 3s - loss: 0.3731 - accuracy: 0.8292 - 3s/epoch - 4ms/step\n",
            "Epoch 79/100\n",
            "657/657 - 3s - loss: 0.3689 - accuracy: 0.8309 - 3s/epoch - 4ms/step\n",
            "Epoch 80/100\n",
            "657/657 - 3s - loss: 0.3681 - accuracy: 0.8330 - 3s/epoch - 4ms/step\n",
            "Epoch 81/100\n",
            "657/657 - 3s - loss: 0.3659 - accuracy: 0.8334 - 3s/epoch - 4ms/step\n",
            "Epoch 82/100\n",
            "657/657 - 3s - loss: 0.3641 - accuracy: 0.8332 - 3s/epoch - 4ms/step\n",
            "Epoch 83/100\n",
            "657/657 - 3s - loss: 0.3651 - accuracy: 0.8327 - 3s/epoch - 4ms/step\n",
            "Epoch 84/100\n",
            "657/657 - 3s - loss: 0.3598 - accuracy: 0.8346 - 3s/epoch - 4ms/step\n",
            "Epoch 85/100\n",
            "657/657 - 3s - loss: 0.3588 - accuracy: 0.8369 - 3s/epoch - 4ms/step\n",
            "Epoch 86/100\n",
            "657/657 - 3s - loss: 0.3580 - accuracy: 0.8365 - 3s/epoch - 4ms/step\n",
            "Epoch 87/100\n",
            "657/657 - 3s - loss: 0.3567 - accuracy: 0.8371 - 3s/epoch - 4ms/step\n",
            "Epoch 88/100\n",
            "657/657 - 3s - loss: 0.3548 - accuracy: 0.8378 - 3s/epoch - 4ms/step\n",
            "Epoch 89/100\n",
            "657/657 - 3s - loss: 0.3514 - accuracy: 0.8407 - 3s/epoch - 4ms/step\n",
            "Epoch 90/100\n",
            "657/657 - 3s - loss: 0.3535 - accuracy: 0.8388 - 3s/epoch - 4ms/step\n",
            "Epoch 91/100\n",
            "657/657 - 3s - loss: 0.3532 - accuracy: 0.8398 - 3s/epoch - 4ms/step\n",
            "Epoch 92/100\n",
            "657/657 - 3s - loss: 0.3504 - accuracy: 0.8397 - 3s/epoch - 4ms/step\n",
            "Epoch 93/100\n",
            "657/657 - 3s - loss: 0.3458 - accuracy: 0.8402 - 3s/epoch - 4ms/step\n",
            "Epoch 94/100\n",
            "657/657 - 3s - loss: 0.3444 - accuracy: 0.8439 - 3s/epoch - 4ms/step\n",
            "Epoch 95/100\n",
            "657/657 - 3s - loss: 0.3417 - accuracy: 0.8414 - 3s/epoch - 4ms/step\n",
            "Epoch 96/100\n",
            "657/657 - 3s - loss: 0.3417 - accuracy: 0.8427 - 3s/epoch - 4ms/step\n",
            "Epoch 97/100\n",
            "657/657 - 3s - loss: 0.3404 - accuracy: 0.8457 - 3s/epoch - 4ms/step\n",
            "Epoch 98/100\n",
            "657/657 - 3s - loss: 0.3381 - accuracy: 0.8449 - 3s/epoch - 4ms/step\n",
            "Epoch 99/100\n",
            "657/657 - 3s - loss: 0.3349 - accuracy: 0.8454 - 3s/epoch - 4ms/step\n",
            "Epoch 100/100\n",
            "657/657 - 3s - loss: 0.3329 - accuracy: 0.8459 - 3s/epoch - 4ms/step\n"
          ]
        },
        {
          "output_type": "execute_result",
          "data": {
            "text/plain": [
              "<keras.src.callbacks.History at 0x7c099749a5f0>"
            ]
          },
          "metadata": {},
          "execution_count": 22
        }
      ]
    },
    {
      "cell_type": "code",
      "metadata": {
        "id": "v9U8gHKYcHir",
        "outputId": "34530461-9af0-45c7-aadf-48761a4dbfbe",
        "colab": {
          "base_uri": "https://localhost:8080/"
        }
      },
      "source": [
        "#quantify the model\n",
        "model_loss, model_accuracy = model.evaluate(X_test,y_test,verbose =2)\n",
        "print( model_loss )\n",
        "print (model_accuracy)"
      ],
      "execution_count": 23,
      "outputs": [
        {
          "output_type": "stream",
          "name": "stdout",
          "text": [
            "282/282 - 1s - loss: 0.5654 - accuracy: 0.7891 - 679ms/epoch - 2ms/step\n",
            "0.5654388666152954\n",
            "0.7891111373901367\n"
          ]
        }
      ]
    },
    {
      "cell_type": "code",
      "metadata": {
        "id": "6QeLPBQDcM47"
      },
      "source": [
        "from sklearn.metrics import recall_score"
      ],
      "execution_count": 24,
      "outputs": []
    },
    {
      "cell_type": "code",
      "metadata": {
        "id": "KcO89d6hcO3b",
        "outputId": "2e651837-92d9-4578-f9e0-e2bd6a24f19a",
        "colab": {
          "base_uri": "https://localhost:8080/"
        }
      },
      "source": [
        "y_prediction = model.predict(X_test)"
      ],
      "execution_count": 25,
      "outputs": [
        {
          "output_type": "stream",
          "name": "stdout",
          "text": [
            "282/282 [==============================] - 1s 2ms/step\n"
          ]
        }
      ]
    },
    {
      "cell_type": "code",
      "metadata": {
        "id": "kCD8Uc5NcjW0",
        "outputId": "8f8636ea-2996-402b-b794-7c0700e4715a",
        "colab": {
          "base_uri": "https://localhost:8080/"
        }
      },
      "source": [
        "y_prediction[:3]"
      ],
      "execution_count": 26,
      "outputs": [
        {
          "output_type": "execute_result",
          "data": {
            "text/plain": [
              "array([[0.1404495 ],\n",
              "       [0.02620711],\n",
              "       [0.11741614]], dtype=float32)"
            ]
          },
          "metadata": {},
          "execution_count": 26
        }
      ]
    },
    {
      "cell_type": "code",
      "metadata": {
        "id": "QNpfE-h_epqL"
      },
      "source": [
        "predictions = np.rint(y_prediction)"
      ],
      "execution_count": 27,
      "outputs": []
    },
    {
      "cell_type": "code",
      "metadata": {
        "id": "IbWFqrl5cVWT",
        "outputId": "ec019781-691c-42ab-8685-57ac32f0847d",
        "colab": {
          "base_uri": "https://localhost:8080/"
        }
      },
      "source": [
        "print(\"Recall score:\"+ str(recall_score(y_test, predictions)))"
      ],
      "execution_count": 28,
      "outputs": [
        {
          "output_type": "stream",
          "name": "stdout",
          "text": [
            "Recall score:0.37448979591836734\n"
          ]
        }
      ]
    },
    {
      "cell_type": "code",
      "source": [
        "from sklearn.metrics import confusion_matrix\n",
        "import itertools\n",
        "import matplotlib\n",
        "import numpy as np\n",
        "import matplotlib.pyplot as plt\n",
        "%matplotlib inline\n",
        "import numpy as np"
      ],
      "metadata": {
        "id": "MwKbzpAx5lBs"
      },
      "execution_count": 29,
      "outputs": []
    },
    {
      "cell_type": "code",
      "source": [
        "def plot_confusion_matrix(cm, classes,\n",
        "                          normalize=False,\n",
        "                          title='Confusion matrix',\n",
        "                          cmap=plt.cm.Blues):\n",
        "    if normalize:\n",
        "        cm = cm.astype('float') / cm.sum(axis=1)[:, np.newaxis]\n",
        "        print(\"Normalized confusion matrix\")\n",
        "    else:\n",
        "        print('Confusion matrix, without normalization')\n",
        "\n",
        "    print(cm)\n",
        "\n",
        "    plt.imshow(cm, interpolation='nearest', cmap=cmap)\n",
        "    plt.title(title)\n",
        "    plt.colorbar()\n",
        "    tick_marks = np.arange(len(classes))\n",
        "    plt.xticks(tick_marks, classes, rotation=45)\n",
        "    plt.yticks(tick_marks, classes)\n",
        "\n",
        "    fmt = '.2f' if normalize else 'd'\n",
        "    thresh = cm.max() / 2.\n",
        "    for i, j in itertools.product(range(cm.shape[0]), range(cm.shape[1])):\n",
        "        plt.text(j, i, format(cm[i, j], fmt),\n",
        "                 horizontalalignment=\"center\",\n",
        "                 color=\"white\" if cm[i, j] > thresh else \"black\")"
      ],
      "metadata": {
        "id": "2S87zEUE5mgs"
      },
      "execution_count": 30,
      "outputs": []
    },
    {
      "cell_type": "code",
      "source": [
        "cnf_matrix = confusion_matrix(y_test, predictions)\n",
        "plt.figure()\n",
        "plot_confusion_matrix(cnf_matrix, classes=['Non_Default','Default'], normalize=False,\n",
        "                      title='Non Normalized confusion matrix')"
      ],
      "metadata": {
        "colab": {
          "base_uri": "https://localhost:8080/",
          "height": 563
        },
        "id": "NrB4Je465uMh",
        "outputId": "a8e7cc28-0d25-466f-9477-8dc3b7ecd858"
      },
      "execution_count": 31,
      "outputs": [
        {
          "output_type": "stream",
          "name": "stdout",
          "text": [
            "Confusion matrix, without normalization\n",
            "[[6368  672]\n",
            " [1226  734]]\n"
          ]
        },
        {
          "output_type": "display_data",
          "data": {
            "text/plain": [
              "<Figure size 640x480 with 2 Axes>"
            ],
            "image/png": "[encoded data removed]"
          },
          "metadata": {}
        }
      ]
    }
  ]
}