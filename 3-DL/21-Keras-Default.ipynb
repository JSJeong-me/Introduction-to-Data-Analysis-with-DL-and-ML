{
  "nbformat": 4,
  "nbformat_minor": 0,
  "metadata": {
    "colab": {
      "name": "Untitled21.ipynb",
      "provenance": [],
      "authorship_tag": "ABX9TyPxZeodXifuXWodz5j9ekt4",
      "include_colab_link": true
    },
    "kernelspec": {
      "name": "python3",
      "display_name": "Python 3"
    },
    "language_info": {
      "name": "python"
    }
  },
  "cells": [
    {
      "cell_type": "markdown",
      "metadata": {
        "id": "view-in-github",
        "colab_type": "text"
      },
      "source": [
        "<a href=\"https://colab.research.google.com/github/JSJeong-me/Introduction-to-Data-Analysis-with-DL-and-ML/blob/main/3-DL/21-Keras-Default.ipynb\" target=\"_parent\"><img src=\"https://colab.research.google.com/assets/colab-badge.svg\" alt=\"Open In Colab\"/></a>"
      ]
    },
    {
      "cell_type": "code",
      "metadata": {
        "id": "rIVQr8rkRSzo"
      },
      "source": [
        "import tensorflow as tf"
      ],
      "execution_count": 1,
      "outputs": []
    },
    {
      "cell_type": "code",
      "metadata": {
        "id": "K-LyBvtlRXLx"
      },
      "source": [
        "from tensorflow import keras\n",
        "from tensorflow.keras import layers"
      ],
      "execution_count": 2,
      "outputs": []
    },
    {
      "cell_type": "markdown",
      "metadata": {
        "id": "o8P-5vWCbFX6"
      },
      "source": [
        "Data Set Preparation"
      ]
    },
    {
      "cell_type": "code",
      "metadata": {
        "id": "63-1k-fkbJZr"
      },
      "source": [
        "from sklearn.model_selection import train_test_split\n",
        "import pandas as pd\n",
        "import numpy as np\n",
        "from sklearn.preprocessing import StandardScaler"
      ],
      "execution_count": 3,
      "outputs": []
    },
    {
      "cell_type": "code",
      "metadata": {
        "id": "RRCFJZynbcDk"
      },
      "source": [
        "df = pd.read_csv(\"./credit_cards_dataset.csv\")"
      ],
      "execution_count": 4,
      "outputs": []
    },
    {
      "cell_type": "code",
      "metadata": {
        "id": "tFoTnb3KbiW1"
      },
      "source": [
        "X = df.drop('default.payment.next.month',axis =1).values\n",
        "y = df['default.payment.next.month'].values"
      ],
      "execution_count": 5,
      "outputs": []
    },
    {
      "cell_type": "code",
      "metadata": {
        "id": "EGv9KO1ubnCN"
      },
      "source": [
        "X_train, X_test, y_train, y_test = train_test_split (X,y,test_size=0.3, random_state=42)"
      ],
      "execution_count": 6,
      "outputs": []
    },
    {
      "cell_type": "code",
      "metadata": {
        "id": "AaEgKOqpbqTV"
      },
      "source": [
        "sc = StandardScaler()\n",
        "X_train = sc.fit_transform(X_train)\n",
        "X_test = sc.transform(X_test)"
      ],
      "execution_count": 7,
      "outputs": []
    },
    {
      "cell_type": "code",
      "metadata": {
        "id": "cfTe23-Hbp30"
      },
      "source": [],
      "execution_count": 7,
      "outputs": []
    },
    {
      "cell_type": "code",
      "metadata": {
        "id": "4PYGmQT6Ratp"
      },
      "source": [
        "# Create a network with 1 linear unit\n",
        "model = keras.Sequential([\n",
        "    layers.Dense(units=50, input_shape=[24]),\n",
        "    layers.Dense(units=50),\n",
        "    layers.Dense(units=30),\n",
        "    layers.Dense(units=10),\n",
        "    layers.Dense(units=5)\n",
        "])"
      ],
      "execution_count": 8,
      "outputs": []
    },
    {
      "cell_type": "code",
      "metadata": {
        "id": "cu-WJLDdaxSN"
      },
      "source": [
        "model.add(layers.Dense(units = 1, activation = 'sigmoid'))"
      ],
      "execution_count": 9,
      "outputs": []
    },
    {
      "cell_type": "code",
      "metadata": {
        "colab": {
          "base_uri": "https://localhost:8080/"
        },
        "id": "p5klIrtTReci",
        "outputId": "09250ab9-b31c-49c5-cf57-b155a6757c3b"
      },
      "source": [
        "model.summary()"
      ],
      "execution_count": 10,
      "outputs": [
        {
          "output_type": "stream",
          "name": "stdout",
          "text": [
            "Model: \"sequential\"\n",
            "_________________________________________________________________\n",
            " Layer (type)                Output Shape              Param #   \n",
            "=================================================================\n",
            " dense (Dense)               (None, 50)                1250      \n",
            "                                                                 \n",
            " dense_1 (Dense)             (None, 50)                2550      \n",
            "                                                                 \n",
            " dense_2 (Dense)             (None, 30)                1530      \n",
            "                                                                 \n",
            " dense_3 (Dense)             (None, 10)                310       \n",
            "                                                                 \n",
            " dense_4 (Dense)             (None, 5)                 55        \n",
            "                                                                 \n",
            " dense_5 (Dense)             (None, 1)                 6         \n",
            "                                                                 \n",
            "=================================================================\n",
            "Total params: 5701 (22.27 KB)\n",
            "Trainable params: 5701 (22.27 KB)\n",
            "Non-trainable params: 0 (0.00 Byte)\n",
            "_________________________________________________________________\n"
          ]
        }
      ]
    },
    {
      "cell_type": "code",
      "metadata": {
        "id": "n0zrA0dqa_DD"
      },
      "source": [
        "#compile the model\n",
        "model.compile(optimizer = 'adam' ,\n",
        "             loss = 'binary_crossentropy',\n",
        "             metrics =['accuracy'])"
      ],
      "execution_count": 11,
      "outputs": []
    },
    {
      "cell_type": "code",
      "metadata": {
        "id": "BdUE1QJsbC-K",
        "outputId": "2794b54d-53e5-4ea5-a582-6ace7f7dd82b",
        "colab": {
          "base_uri": "https://localhost:8080/"
        }
      },
      "source": [
        "model.fit(X_train, y_train, epochs=50,shuffle = True,verbose =2)"
      ],
      "execution_count": 12,
      "outputs": [
        {
          "output_type": "stream",
          "name": "stdout",
          "text": [
            "Epoch 1/50\n",
            "657/657 - 2s - loss: 0.4821 - accuracy: 0.8027 - 2s/epoch - 4ms/step\n",
            "Epoch 2/50\n",
            "657/657 - 1s - loss: 0.4709 - accuracy: 0.8083 - 1s/epoch - 2ms/step\n",
            "Epoch 3/50\n",
            "657/657 - 1s - loss: 0.4695 - accuracy: 0.8086 - 1s/epoch - 2ms/step\n",
            "Epoch 4/50\n",
            "657/657 - 1s - loss: 0.4699 - accuracy: 0.8090 - 1s/epoch - 2ms/step\n",
            "Epoch 5/50\n",
            "657/657 - 1s - loss: 0.4683 - accuracy: 0.8090 - 1s/epoch - 2ms/step\n",
            "Epoch 6/50\n",
            "657/657 - 2s - loss: 0.4687 - accuracy: 0.8080 - 2s/epoch - 2ms/step\n",
            "Epoch 7/50\n",
            "657/657 - 1s - loss: 0.4683 - accuracy: 0.8087 - 1s/epoch - 2ms/step\n",
            "Epoch 8/50\n",
            "657/657 - 1s - loss: 0.4684 - accuracy: 0.8090 - 1s/epoch - 2ms/step\n",
            "Epoch 9/50\n",
            "657/657 - 1s - loss: 0.4681 - accuracy: 0.8094 - 1s/epoch - 2ms/step\n",
            "Epoch 10/50\n",
            "657/657 - 1s - loss: 0.4678 - accuracy: 0.8085 - 1s/epoch - 2ms/step\n",
            "Epoch 11/50\n",
            "657/657 - 1s - loss: 0.4673 - accuracy: 0.8090 - 1s/epoch - 2ms/step\n",
            "Epoch 12/50\n",
            "657/657 - 1s - loss: 0.4673 - accuracy: 0.8085 - 1s/epoch - 2ms/step\n",
            "Epoch 13/50\n",
            "657/657 - 1s - loss: 0.4678 - accuracy: 0.8093 - 1s/epoch - 2ms/step\n",
            "Epoch 14/50\n",
            "657/657 - 1s - loss: 0.4673 - accuracy: 0.8090 - 1s/epoch - 2ms/step\n",
            "Epoch 15/50\n",
            "657/657 - 1s - loss: 0.4679 - accuracy: 0.8093 - 1s/epoch - 2ms/step\n",
            "Epoch 16/50\n",
            "657/657 - 1s - loss: 0.4675 - accuracy: 0.8088 - 1s/epoch - 2ms/step\n",
            "Epoch 17/50\n",
            "657/657 - 2s - loss: 0.4672 - accuracy: 0.8100 - 2s/epoch - 2ms/step\n",
            "Epoch 18/50\n",
            "657/657 - 1s - loss: 0.4674 - accuracy: 0.8114 - 1s/epoch - 2ms/step\n",
            "Epoch 19/50\n",
            "657/657 - 1s - loss: 0.4670 - accuracy: 0.8076 - 1s/epoch - 2ms/step\n",
            "Epoch 20/50\n",
            "657/657 - 1s - loss: 0.4676 - accuracy: 0.8088 - 1s/epoch - 2ms/step\n",
            "Epoch 21/50\n",
            "657/657 - 1s - loss: 0.4672 - accuracy: 0.8107 - 1s/epoch - 2ms/step\n",
            "Epoch 22/50\n",
            "657/657 - 1s - loss: 0.4674 - accuracy: 0.8094 - 1s/epoch - 2ms/step\n",
            "Epoch 23/50\n",
            "657/657 - 1s - loss: 0.4670 - accuracy: 0.8101 - 1s/epoch - 2ms/step\n",
            "Epoch 24/50\n",
            "657/657 - 1s - loss: 0.4672 - accuracy: 0.8101 - 1s/epoch - 2ms/step\n",
            "Epoch 25/50\n",
            "657/657 - 1s - loss: 0.4670 - accuracy: 0.8087 - 1s/epoch - 2ms/step\n",
            "Epoch 26/50\n",
            "657/657 - 1s - loss: 0.4669 - accuracy: 0.8092 - 1s/epoch - 2ms/step\n",
            "Epoch 27/50\n",
            "657/657 - 1s - loss: 0.4667 - accuracy: 0.8105 - 1s/epoch - 2ms/step\n",
            "Epoch 28/50\n",
            "657/657 - 2s - loss: 0.4669 - accuracy: 0.8107 - 2s/epoch - 2ms/step\n",
            "Epoch 29/50\n",
            "657/657 - 1s - loss: 0.4668 - accuracy: 0.8101 - 1s/epoch - 2ms/step\n",
            "Epoch 30/50\n",
            "657/657 - 1s - loss: 0.4673 - accuracy: 0.8092 - 1s/epoch - 2ms/step\n",
            "Epoch 31/50\n",
            "657/657 - 1s - loss: 0.4667 - accuracy: 0.8098 - 1s/epoch - 2ms/step\n",
            "Epoch 32/50\n",
            "657/657 - 1s - loss: 0.4669 - accuracy: 0.8103 - 1s/epoch - 2ms/step\n",
            "Epoch 33/50\n",
            "657/657 - 1s - loss: 0.4668 - accuracy: 0.8093 - 1s/epoch - 2ms/step\n",
            "Epoch 34/50\n",
            "657/657 - 1s - loss: 0.4661 - accuracy: 0.8106 - 1s/epoch - 2ms/step\n",
            "Epoch 35/50\n",
            "657/657 - 1s - loss: 0.4665 - accuracy: 0.8105 - 1s/epoch - 2ms/step\n",
            "Epoch 36/50\n",
            "657/657 - 1s - loss: 0.4663 - accuracy: 0.8103 - 1s/epoch - 2ms/step\n",
            "Epoch 37/50\n",
            "657/657 - 1s - loss: 0.4668 - accuracy: 0.8096 - 1s/epoch - 2ms/step\n",
            "Epoch 38/50\n",
            "657/657 - 1s - loss: 0.4669 - accuracy: 0.8092 - 1s/epoch - 2ms/step\n",
            "Epoch 39/50\n",
            "657/657 - 2s - loss: 0.4664 - accuracy: 0.8097 - 2s/epoch - 2ms/step\n",
            "Epoch 40/50\n",
            "657/657 - 1s - loss: 0.4663 - accuracy: 0.8094 - 1s/epoch - 2ms/step\n",
            "Epoch 41/50\n",
            "657/657 - 1s - loss: 0.4666 - accuracy: 0.8090 - 1s/epoch - 2ms/step\n",
            "Epoch 42/50\n",
            "657/657 - 1s - loss: 0.4661 - accuracy: 0.8105 - 1s/epoch - 2ms/step\n",
            "Epoch 43/50\n",
            "657/657 - 1s - loss: 0.4666 - accuracy: 0.8103 - 1s/epoch - 2ms/step\n",
            "Epoch 44/50\n",
            "657/657 - 1s - loss: 0.4666 - accuracy: 0.8097 - 1s/epoch - 2ms/step\n",
            "Epoch 45/50\n",
            "657/657 - 1s - loss: 0.4665 - accuracy: 0.8090 - 1s/epoch - 2ms/step\n",
            "Epoch 46/50\n",
            "657/657 - 1s - loss: 0.4668 - accuracy: 0.8095 - 1s/epoch - 2ms/step\n",
            "Epoch 47/50\n",
            "657/657 - 1s - loss: 0.4664 - accuracy: 0.8102 - 1s/epoch - 2ms/step\n",
            "Epoch 48/50\n",
            "657/657 - 1s - loss: 0.4664 - accuracy: 0.8094 - 1s/epoch - 2ms/step\n",
            "Epoch 49/50\n",
            "657/657 - 1s - loss: 0.4663 - accuracy: 0.8100 - 1s/epoch - 2ms/step\n",
            "Epoch 50/50\n",
            "657/657 - 2s - loss: 0.4668 - accuracy: 0.8104 - 2s/epoch - 2ms/step\n"
          ]
        },
        {
          "output_type": "execute_result",
          "data": {
            "text/plain": [
              "<keras.src.callbacks.History at 0x7af8bd696860>"
            ]
          },
          "metadata": {},
          "execution_count": 12
        }
      ]
    },
    {
      "cell_type": "code",
      "metadata": {
        "id": "v9U8gHKYcHir",
        "outputId": "fc96dd5a-4c17-4fe9-d0fe-4be7a64188b9",
        "colab": {
          "base_uri": "https://localhost:8080/"
        }
      },
      "source": [
        "#quantify the model\n",
        "model_loss, model_accuracy = model.evaluate(X_test,y_test,verbose =2)\n",
        "print( model_loss )\n",
        "print (model_accuracy)"
      ],
      "execution_count": 13,
      "outputs": [
        {
          "output_type": "stream",
          "name": "stdout",
          "text": [
            "282/282 - 1s - loss: 0.4645 - accuracy: 0.8089 - 759ms/epoch - 3ms/step\n",
            "0.4644925594329834\n",
            "0.8088889122009277\n"
          ]
        }
      ]
    },
    {
      "cell_type": "code",
      "metadata": {
        "id": "6QeLPBQDcM47"
      },
      "source": [
        "from sklearn.metrics import recall_score"
      ],
      "execution_count": 14,
      "outputs": []
    },
    {
      "cell_type": "code",
      "metadata": {
        "id": "KcO89d6hcO3b",
        "outputId": "a722768c-5c5c-4814-b12b-67e78ff2b397",
        "colab": {
          "base_uri": "https://localhost:8080/"
        }
      },
      "source": [
        "y_prediction = model.predict(X_test)"
      ],
      "execution_count": 15,
      "outputs": [
        {
          "output_type": "stream",
          "name": "stdout",
          "text": [
            "282/282 [==============================] - 0s 1ms/step\n"
          ]
        }
      ]
    },
    {
      "cell_type": "code",
      "metadata": {
        "id": "kCD8Uc5NcjW0",
        "outputId": "2c94d2c8-a23c-48d5-d7d8-4770e13386fa",
        "colab": {
          "base_uri": "https://localhost:8080/"
        }
      },
      "source": [
        "y_prediction[:3]"
      ],
      "execution_count": 16,
      "outputs": [
        {
          "output_type": "execute_result",
          "data": {
            "text/plain": [
              "array([[0.23510556],\n",
              "       [0.16401494],\n",
              "       [0.20306502]], dtype=float32)"
            ]
          },
          "metadata": {},
          "execution_count": 16
        }
      ]
    },
    {
      "cell_type": "code",
      "metadata": {
        "id": "QNpfE-h_epqL"
      },
      "source": [
        "predictions = np.rint(y_prediction)"
      ],
      "execution_count": 17,
      "outputs": []
    },
    {
      "cell_type": "code",
      "metadata": {
        "id": "IbWFqrl5cVWT",
        "outputId": "7625ab94-ddae-43cd-8d6a-fd43fa320246",
        "colab": {
          "base_uri": "https://localhost:8080/"
        }
      },
      "source": [
        "print(\"Recall score:\"+ str(recall_score(y_test, predictions)))"
      ],
      "execution_count": 18,
      "outputs": [
        {
          "output_type": "stream",
          "name": "stdout",
          "text": [
            "Recall score:0.23520408163265305\n"
          ]
        }
      ]
    }
  ]
}