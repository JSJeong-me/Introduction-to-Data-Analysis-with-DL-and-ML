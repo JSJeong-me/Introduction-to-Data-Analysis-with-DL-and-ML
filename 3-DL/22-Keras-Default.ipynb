{
  "nbformat": 4,
  "nbformat_minor": 0,
  "metadata": {
    "colab": {
      "name": "Untitled21.ipynb",
      "provenance": [],
      "authorship_tag": "ABX9TyOsQGGCUNF/gxPRuJ33F8jA",
      "include_colab_link": true
    },
    "kernelspec": {
      "name": "python3",
      "display_name": "Python 3"
    },
    "language_info": {
      "name": "python"
    }
  },
  "cells": [
    {
      "cell_type": "markdown",
      "metadata": {
        "id": "view-in-github",
        "colab_type": "text"
      },
      "source": [
        "<a href=\"https://colab.research.google.com/github/JSJeong-me/Introduction-to-Data-Analysis-with-DL-and-ML/blob/main/3-DL/22-Keras-Default.ipynb\" target=\"_parent\"><img src=\"https://colab.research.google.com/assets/colab-badge.svg\" alt=\"Open In Colab\"/></a>"
      ]
    },
    {
      "cell_type": "code",
      "metadata": {
        "id": "rIVQr8rkRSzo"
      },
      "source": [
        "import tensorflow as tf"
      ],
      "execution_count": 1,
      "outputs": []
    },
    {
      "cell_type": "code",
      "metadata": {
        "id": "K-LyBvtlRXLx"
      },
      "source": [
        "from tensorflow import keras\n",
        "from tensorflow.keras import layers"
      ],
      "execution_count": 3,
      "outputs": []
    },
    {
      "cell_type": "markdown",
      "metadata": {
        "id": "o8P-5vWCbFX6"
      },
      "source": [
        "Data Set Preparation"
      ]
    },
    {
      "cell_type": "code",
      "metadata": {
        "id": "63-1k-fkbJZr"
      },
      "source": [
        "from sklearn.model_selection import train_test_split\n",
        "import pandas as pd\n",
        "import numpy as np\n",
        "from sklearn.preprocessing import StandardScaler"
      ],
      "execution_count": 4,
      "outputs": []
    },
    {
      "cell_type": "code",
      "metadata": {
        "id": "RRCFJZynbcDk"
      },
      "source": [
        "df = pd.read_csv(\"./credit_cards_dataset.csv\")"
      ],
      "execution_count": 5,
      "outputs": []
    },
    {
      "cell_type": "code",
      "source": [
        "df.tail()"
      ],
      "metadata": {
        "id": "CfTlrXEqs7mI"
      },
      "execution_count": null,
      "outputs": []
    },
    {
      "cell_type": "code",
      "source": [
        "df.columns"
      ],
      "metadata": {
        "id": "rtFNgvfKyEfT",
        "outputId": "3dfcb8ae-9fce-4000-abfb-5db418db2481",
        "colab": {
          "base_uri": "https://localhost:8080/"
        }
      },
      "execution_count": 7,
      "outputs": [
        {
          "output_type": "execute_result",
          "data": {
            "text/plain": [
              "Index(['ID', 'LIMIT_BAL', 'SEX', 'EDUCATION', 'MARRIAGE', 'AGE', 'PAY_0',\n",
              "       'PAY_2', 'PAY_3', 'PAY_4', 'PAY_5', 'PAY_6', 'BILL_AMT1', 'BILL_AMT2',\n",
              "       'BILL_AMT3', 'BILL_AMT4', 'BILL_AMT5', 'BILL_AMT6', 'PAY_AMT1',\n",
              "       'PAY_AMT2', 'PAY_AMT3', 'PAY_AMT4', 'PAY_AMT5', 'PAY_AMT6',\n",
              "       'default.payment.next.month'],\n",
              "      dtype='object')"
            ]
          },
          "metadata": {},
          "execution_count": 7
        }
      ]
    },
    {
      "cell_type": "code",
      "metadata": {
        "id": "tFoTnb3KbiW1"
      },
      "source": [
        "X = df.drop('default.payment.next.month',axis =1).values\n",
        "y = df['default.payment.next.month'].values"
      ],
      "execution_count": 8,
      "outputs": []
    },
    {
      "cell_type": "code",
      "source": [
        "X[-1]"
      ],
      "metadata": {
        "id": "OM-6d4W0tHLq",
        "outputId": "47e5236d-9b49-469c-f58b-0f4d919eadb5",
        "colab": {
          "base_uri": "https://localhost:8080/"
        }
      },
      "execution_count": 9,
      "outputs": [
        {
          "output_type": "execute_result",
          "data": {
            "text/plain": [
              "array([3.0000e+04, 5.0000e+04, 1.0000e+00, 2.0000e+00, 1.0000e+00,\n",
              "       4.6000e+01, 0.0000e+00, 0.0000e+00, 0.0000e+00, 0.0000e+00,\n",
              "       0.0000e+00, 0.0000e+00, 4.7929e+04, 4.8905e+04, 4.9764e+04,\n",
              "       3.6535e+04, 3.2428e+04, 1.5313e+04, 2.0780e+03, 1.8000e+03,\n",
              "       1.4300e+03, 1.0000e+03, 1.0000e+03, 1.0000e+03])"
            ]
          },
          "metadata": {},
          "execution_count": 9
        }
      ]
    },
    {
      "cell_type": "code",
      "source": [
        "y[-1]"
      ],
      "metadata": {
        "id": "FhW6AfqatO7r",
        "outputId": "65201991-513b-443c-8061-081a4fb5e182",
        "colab": {
          "base_uri": "https://localhost:8080/"
        }
      },
      "execution_count": 10,
      "outputs": [
        {
          "output_type": "execute_result",
          "data": {
            "text/plain": [
              "1"
            ]
          },
          "metadata": {},
          "execution_count": 10
        }
      ]
    },
    {
      "cell_type": "code",
      "metadata": {
        "id": "EGv9KO1ubnCN"
      },
      "source": [
        "X_train, X_test, y_train, y_test = train_test_split(X, y, test_size=0.3, random_state=42)"
      ],
      "execution_count": 11,
      "outputs": []
    },
    {
      "cell_type": "code",
      "source": [
        "len(X_test)"
      ],
      "metadata": {
        "id": "qi57UJwZtUCB",
        "outputId": "720beee2-52a9-4da3-ff91-d9e5ca721903",
        "colab": {
          "base_uri": "https://localhost:8080/"
        }
      },
      "execution_count": 12,
      "outputs": [
        {
          "output_type": "execute_result",
          "data": {
            "text/plain": [
              "9000"
            ]
          },
          "metadata": {},
          "execution_count": 12
        }
      ]
    },
    {
      "cell_type": "code",
      "source": [
        "sc = StandardScaler()"
      ],
      "metadata": {
        "id": "6lhCHUV4th-e"
      },
      "execution_count": 13,
      "outputs": []
    },
    {
      "cell_type": "code",
      "metadata": {
        "id": "AaEgKOqpbqTV"
      },
      "source": [
        "X_train = sc.fit_transform(X_train)\n",
        "X_test = sc.transform(X_test)"
      ],
      "execution_count": 14,
      "outputs": []
    },
    {
      "cell_type": "code",
      "source": [
        "X_train[-1]"
      ],
      "metadata": {
        "id": "QUFq51M7uCkg",
        "outputId": "599bf323-6d0f-43db-e1db-2338647e51c4",
        "colab": {
          "base_uri": "https://localhost:8080/"
        }
      },
      "execution_count": 15,
      "outputs": [
        {
          "output_type": "execute_result",
          "data": {
            "text/plain": [
              "array([ 0.99665793, -0.05504288,  0.80648893,  0.18648797, -1.05381817,\n",
              "        0.05416417, -1.75953854, -1.55812877, -1.53465571, -1.52240712,\n",
              "       -1.52891352, -1.47994938, -0.69525161, -0.69097285, -0.62375055,\n",
              "       -0.62828283, -0.63857885, -0.41844068, -0.33415838, -0.09207261,\n",
              "       -0.1142242 , -0.20131106,  0.58979774, -0.210825  ])"
            ]
          },
          "metadata": {},
          "execution_count": 15
        }
      ]
    },
    {
      "cell_type": "code",
      "source": [
        "X_test[-1]"
      ],
      "metadata": {
        "id": "5pRiY_7eudQL",
        "outputId": "b1599ada-faf0-4c7c-e109-e2463754ccba",
        "colab": {
          "base_uri": "https://localhost:8080/"
        }
      },
      "execution_count": 16,
      "outputs": [
        {
          "output_type": "execute_result",
          "data": {
            "text/plain": [
              "array([ 1.31667539,  0.64128415,  0.80648893, -1.07681763, -1.05381817,\n",
              "        0.05416417, -1.75953854, -1.55812877, -1.53465571, -1.52240712,\n",
              "       -1.52891352, -1.47994938, -0.660758  , -0.63456471, -0.58158922,\n",
              "       -0.60475898, -0.59385685, -0.64348454, -0.09827316,  0.02341059,\n",
              "       -0.04270981, -0.03617943, -0.25518015,  0.22190272])"
            ]
          },
          "metadata": {},
          "execution_count": 16
        }
      ]
    },
    {
      "cell_type": "code",
      "source": [
        "len(X_train)"
      ],
      "metadata": {
        "id": "qCurEV2Lukvt",
        "outputId": "2f36bc05-2938-4b97-be49-3f3877778a06",
        "colab": {
          "base_uri": "https://localhost:8080/"
        }
      },
      "execution_count": 17,
      "outputs": [
        {
          "output_type": "execute_result",
          "data": {
            "text/plain": [
              "21000"
            ]
          },
          "metadata": {},
          "execution_count": 17
        }
      ]
    },
    {
      "cell_type": "code",
      "source": [
        "input_param = X.shape[1]"
      ],
      "metadata": {
        "id": "s_HPSDguuyPC"
      },
      "execution_count": 18,
      "outputs": []
    },
    {
      "cell_type": "code",
      "metadata": {
        "id": "4PYGmQT6Ratp"
      },
      "source": [
        "# Create a network with 1 linear unit\n",
        "model = keras.Sequential([\n",
        "    layers.Dense(units=512, input_shape=[input_param], activation='relu'),\n",
        "    layers.Dense(units=1024, activation='relu'),\n",
        "    layers.Dropout(0.2),\n",
        "    # layers.BatchNormalization(),\n",
        "    layers.Dense(units=512, activation='relu'),\n",
        "    layers.Dropout(0.2),\n",
        "    # layers.BatchNormalization(),\n",
        "    layers.Dense(units=128, activation='relu'),\n",
        "    layers.Dropout(0.2),\n",
        "    layers.BatchNormalization(),\n",
        "    layers.Dense(units=32, activation='relu'),\n",
        "    layers.Dense(units = 1, activation = 'sigmoid')\n",
        "])"
      ],
      "execution_count": 19,
      "outputs": []
    },
    {
      "cell_type": "code",
      "metadata": {
        "id": "cu-WJLDdaxSN"
      },
      "source": [
        "# model.add(layers.Dense(units = 1, activation = 'sigmoid'))"
      ],
      "execution_count": 20,
      "outputs": []
    },
    {
      "cell_type": "code",
      "metadata": {
        "colab": {
          "base_uri": "https://localhost:8080/"
        },
        "id": "p5klIrtTReci",
        "outputId": "99d275b0-ae04-4dea-9005-74f525657d4a"
      },
      "source": [
        "model.summary()"
      ],
      "execution_count": 21,
      "outputs": [
        {
          "output_type": "stream",
          "name": "stdout",
          "text": [
            "Model: \"sequential\"\n",
            "_________________________________________________________________\n",
            " Layer (type)                Output Shape              Param #   \n",
            "=================================================================\n",
            " dense (Dense)               (None, 512)               12800     \n",
            "                                                                 \n",
            " dense_1 (Dense)             (None, 1024)              525312    \n",
            "                                                                 \n",
            " dropout (Dropout)           (None, 1024)              0         \n",
            "                                                                 \n",
            " dense_2 (Dense)             (None, 512)               524800    \n",
            "                                                                 \n",
            " dropout_1 (Dropout)         (None, 512)               0         \n",
            "                                                                 \n",
            " dense_3 (Dense)             (None, 128)               65664     \n",
            "                                                                 \n",
            " dropout_2 (Dropout)         (None, 128)               0         \n",
            "                                                                 \n",
            " batch_normalization (Batch  (None, 128)               512       \n",
            " Normalization)                                                  \n",
            "                                                                 \n",
            " dense_4 (Dense)             (None, 32)                4128      \n",
            "                                                                 \n",
            " dense_5 (Dense)             (None, 1)                 33        \n",
            "                                                                 \n",
            "=================================================================\n",
            "Total params: 1133249 (4.32 MB)\n",
            "Trainable params: 1132993 (4.32 MB)\n",
            "Non-trainable params: 256 (1.00 KB)\n",
            "_________________________________________________________________\n"
          ]
        }
      ]
    },
    {
      "cell_type": "code",
      "metadata": {
        "id": "n0zrA0dqa_DD"
      },
      "source": [
        "#compile the model\n",
        "model.compile(optimizer = 'adam' ,\n",
        "             loss = 'binary_crossentropy',\n",
        "             metrics =['accuracy'])"
      ],
      "execution_count": 22,
      "outputs": []
    },
    {
      "cell_type": "code",
      "metadata": {
        "id": "BdUE1QJsbC-K",
        "outputId": "5874b86f-54e8-4fb9-ce8b-b06f83d0e878",
        "colab": {
          "base_uri": "https://localhost:8080/"
        }
      },
      "source": [
        "model.fit(X_train, y_train, epochs=100,shuffle = True, verbose =2)"
      ],
      "execution_count": 23,
      "outputs": [
        {
          "output_type": "stream",
          "name": "stdout",
          "text": [
            "Epoch 1/100\n",
            "657/657 - 15s - loss: 0.4730 - accuracy: 0.8020 - 15s/epoch - 23ms/step\n",
            "Epoch 2/100\n",
            "657/657 - 13s - loss: 0.4478 - accuracy: 0.8133 - 13s/epoch - 20ms/step\n",
            "Epoch 3/100\n",
            "657/657 - 14s - loss: 0.4452 - accuracy: 0.8148 - 14s/epoch - 21ms/step\n",
            "Epoch 4/100\n",
            "657/657 - 14s - loss: 0.4399 - accuracy: 0.8170 - 14s/epoch - 21ms/step\n",
            "Epoch 5/100\n",
            "657/657 - 13s - loss: 0.4364 - accuracy: 0.8170 - 13s/epoch - 20ms/step\n",
            "Epoch 6/100\n",
            "657/657 - 14s - loss: 0.4350 - accuracy: 0.8184 - 14s/epoch - 21ms/step\n",
            "Epoch 7/100\n",
            "657/657 - 14s - loss: 0.4330 - accuracy: 0.8194 - 14s/epoch - 21ms/step\n",
            "Epoch 8/100\n",
            "657/657 - 14s - loss: 0.4319 - accuracy: 0.8170 - 14s/epoch - 21ms/step\n",
            "Epoch 9/100\n",
            "657/657 - 14s - loss: 0.4306 - accuracy: 0.8200 - 14s/epoch - 21ms/step\n",
            "Epoch 10/100\n",
            "657/657 - 14s - loss: 0.4281 - accuracy: 0.8200 - 14s/epoch - 22ms/step\n",
            "Epoch 11/100\n",
            "657/657 - 13s - loss: 0.4274 - accuracy: 0.8222 - 13s/epoch - 20ms/step\n",
            "Epoch 12/100\n",
            "657/657 - 14s - loss: 0.4288 - accuracy: 0.8213 - 14s/epoch - 21ms/step\n",
            "Epoch 13/100\n",
            "657/657 - 14s - loss: 0.4256 - accuracy: 0.8221 - 14s/epoch - 21ms/step\n",
            "Epoch 14/100\n",
            "657/657 - 14s - loss: 0.4225 - accuracy: 0.8217 - 14s/epoch - 21ms/step\n",
            "Epoch 15/100\n",
            "657/657 - 14s - loss: 0.4212 - accuracy: 0.8225 - 14s/epoch - 21ms/step\n",
            "Epoch 16/100\n",
            "657/657 - 13s - loss: 0.4199 - accuracy: 0.8225 - 13s/epoch - 20ms/step\n",
            "Epoch 17/100\n",
            "657/657 - 14s - loss: 0.4188 - accuracy: 0.8236 - 14s/epoch - 21ms/step\n",
            "Epoch 18/100\n",
            "657/657 - 13s - loss: 0.4189 - accuracy: 0.8243 - 13s/epoch - 21ms/step\n",
            "Epoch 19/100\n",
            "657/657 - 13s - loss: 0.4175 - accuracy: 0.8233 - 13s/epoch - 20ms/step\n",
            "Epoch 20/100\n",
            "657/657 - 13s - loss: 0.4133 - accuracy: 0.8247 - 13s/epoch - 21ms/step\n",
            "Epoch 21/100\n",
            "657/657 - 14s - loss: 0.4118 - accuracy: 0.8240 - 14s/epoch - 21ms/step\n",
            "Epoch 22/100\n",
            "657/657 - 14s - loss: 0.4102 - accuracy: 0.8245 - 14s/epoch - 21ms/step\n",
            "Epoch 23/100\n",
            "657/657 - 14s - loss: 0.4094 - accuracy: 0.8244 - 14s/epoch - 22ms/step\n",
            "Epoch 24/100\n",
            "657/657 - 15s - loss: 0.4075 - accuracy: 0.8258 - 15s/epoch - 22ms/step\n",
            "Epoch 25/100\n",
            "657/657 - 14s - loss: 0.4047 - accuracy: 0.8277 - 14s/epoch - 21ms/step\n",
            "Epoch 26/100\n",
            "657/657 - 14s - loss: 0.4024 - accuracy: 0.8272 - 14s/epoch - 21ms/step\n",
            "Epoch 27/100\n",
            "657/657 - 13s - loss: 0.3983 - accuracy: 0.8264 - 13s/epoch - 21ms/step\n",
            "Epoch 28/100\n",
            "657/657 - 13s - loss: 0.3951 - accuracy: 0.8284 - 13s/epoch - 20ms/step\n",
            "Epoch 29/100\n",
            "657/657 - 14s - loss: 0.3931 - accuracy: 0.8278 - 14s/epoch - 21ms/step\n",
            "Epoch 30/100\n",
            "657/657 - 14s - loss: 0.3887 - accuracy: 0.8304 - 14s/epoch - 21ms/step\n",
            "Epoch 31/100\n",
            "657/657 - 13s - loss: 0.3852 - accuracy: 0.8309 - 13s/epoch - 20ms/step\n",
            "Epoch 32/100\n",
            "657/657 - 14s - loss: 0.3809 - accuracy: 0.8336 - 14s/epoch - 21ms/step\n",
            "Epoch 33/100\n",
            "657/657 - 13s - loss: 0.3753 - accuracy: 0.8343 - 13s/epoch - 20ms/step\n",
            "Epoch 34/100\n",
            "657/657 - 14s - loss: 0.3743 - accuracy: 0.8331 - 14s/epoch - 21ms/step\n",
            "Epoch 35/100\n",
            "657/657 - 14s - loss: 0.3667 - accuracy: 0.8368 - 14s/epoch - 21ms/step\n",
            "Epoch 36/100\n",
            "657/657 - 13s - loss: 0.3623 - accuracy: 0.8398 - 13s/epoch - 20ms/step\n",
            "Epoch 37/100\n",
            "657/657 - 13s - loss: 0.3591 - accuracy: 0.8417 - 13s/epoch - 20ms/step\n",
            "Epoch 38/100\n",
            "657/657 - 13s - loss: 0.3524 - accuracy: 0.8448 - 13s/epoch - 20ms/step\n",
            "Epoch 39/100\n",
            "657/657 - 13s - loss: 0.3484 - accuracy: 0.8426 - 13s/epoch - 20ms/step\n",
            "Epoch 40/100\n",
            "657/657 - 13s - loss: 0.3416 - accuracy: 0.8477 - 13s/epoch - 19ms/step\n",
            "Epoch 41/100\n",
            "657/657 - 13s - loss: 0.3366 - accuracy: 0.8495 - 13s/epoch - 20ms/step\n",
            "Epoch 42/100\n",
            "657/657 - 13s - loss: 0.3346 - accuracy: 0.8513 - 13s/epoch - 20ms/step\n",
            "Epoch 43/100\n",
            "657/657 - 14s - loss: 0.3283 - accuracy: 0.8561 - 14s/epoch - 21ms/step\n",
            "Epoch 44/100\n",
            "657/657 - 13s - loss: 0.3205 - accuracy: 0.8574 - 13s/epoch - 19ms/step\n",
            "Epoch 45/100\n",
            "657/657 - 13s - loss: 0.3168 - accuracy: 0.8604 - 13s/epoch - 20ms/step\n",
            "Epoch 46/100\n",
            "657/657 - 13s - loss: 0.3109 - accuracy: 0.8621 - 13s/epoch - 19ms/step\n",
            "Epoch 47/100\n",
            "657/657 - 13s - loss: 0.3066 - accuracy: 0.8627 - 13s/epoch - 20ms/step\n",
            "Epoch 48/100\n",
            "657/657 - 13s - loss: 0.3009 - accuracy: 0.8676 - 13s/epoch - 20ms/step\n",
            "Epoch 49/100\n",
            "657/657 - 13s - loss: 0.2962 - accuracy: 0.8689 - 13s/epoch - 20ms/step\n",
            "Epoch 50/100\n",
            "657/657 - 13s - loss: 0.2928 - accuracy: 0.8729 - 13s/epoch - 20ms/step\n",
            "Epoch 51/100\n",
            "657/657 - 13s - loss: 0.2859 - accuracy: 0.8732 - 13s/epoch - 20ms/step\n",
            "Epoch 52/100\n",
            "657/657 - 13s - loss: 0.2860 - accuracy: 0.8736 - 13s/epoch - 20ms/step\n",
            "Epoch 53/100\n",
            "657/657 - 13s - loss: 0.2802 - accuracy: 0.8741 - 13s/epoch - 20ms/step\n",
            "Epoch 54/100\n",
            "657/657 - 13s - loss: 0.2750 - accuracy: 0.8792 - 13s/epoch - 20ms/step\n",
            "Epoch 55/100\n",
            "657/657 - 13s - loss: 0.2701 - accuracy: 0.8812 - 13s/epoch - 20ms/step\n",
            "Epoch 56/100\n",
            "657/657 - 13s - loss: 0.2647 - accuracy: 0.8824 - 13s/epoch - 20ms/step\n",
            "Epoch 57/100\n",
            "657/657 - 15s - loss: 0.2650 - accuracy: 0.8825 - 15s/epoch - 23ms/step\n",
            "Epoch 58/100\n",
            "657/657 - 23s - loss: 0.2593 - accuracy: 0.8865 - 23s/epoch - 34ms/step\n",
            "Epoch 59/100\n",
            "657/657 - 15s - loss: 0.2552 - accuracy: 0.8880 - 15s/epoch - 23ms/step\n",
            "Epoch 60/100\n",
            "657/657 - 13s - loss: 0.2513 - accuracy: 0.8904 - 13s/epoch - 20ms/step\n",
            "Epoch 61/100\n",
            "657/657 - 13s - loss: 0.2454 - accuracy: 0.8925 - 13s/epoch - 20ms/step\n",
            "Epoch 62/100\n",
            "657/657 - 13s - loss: 0.2469 - accuracy: 0.8925 - 13s/epoch - 20ms/step\n",
            "Epoch 63/100\n",
            "657/657 - 14s - loss: 0.2396 - accuracy: 0.8970 - 14s/epoch - 22ms/step\n",
            "Epoch 64/100\n",
            "657/657 - 14s - loss: 0.2369 - accuracy: 0.8953 - 14s/epoch - 21ms/step\n",
            "Epoch 65/100\n",
            "657/657 - 14s - loss: 0.2314 - accuracy: 0.8990 - 14s/epoch - 22ms/step\n",
            "Epoch 66/100\n",
            "657/657 - 14s - loss: 0.2293 - accuracy: 0.9007 - 14s/epoch - 21ms/step\n",
            "Epoch 67/100\n",
            "657/657 - 14s - loss: 0.2267 - accuracy: 0.9021 - 14s/epoch - 21ms/step\n",
            "Epoch 68/100\n",
            "657/657 - 14s - loss: 0.2203 - accuracy: 0.9030 - 14s/epoch - 21ms/step\n",
            "Epoch 69/100\n",
            "657/657 - 13s - loss: 0.2189 - accuracy: 0.9059 - 13s/epoch - 20ms/step\n",
            "Epoch 70/100\n",
            "657/657 - 14s - loss: 0.2151 - accuracy: 0.9063 - 14s/epoch - 21ms/step\n",
            "Epoch 71/100\n",
            "657/657 - 14s - loss: 0.2132 - accuracy: 0.9070 - 14s/epoch - 21ms/step\n",
            "Epoch 72/100\n",
            "657/657 - 14s - loss: 0.2122 - accuracy: 0.9090 - 14s/epoch - 21ms/step\n",
            "Epoch 73/100\n",
            "657/657 - 14s - loss: 0.2095 - accuracy: 0.9098 - 14s/epoch - 21ms/step\n",
            "Epoch 74/100\n",
            "657/657 - 14s - loss: 0.2038 - accuracy: 0.9135 - 14s/epoch - 21ms/step\n",
            "Epoch 75/100\n",
            "657/657 - 14s - loss: 0.1999 - accuracy: 0.9129 - 14s/epoch - 21ms/step\n",
            "Epoch 76/100\n",
            "657/657 - 14s - loss: 0.1985 - accuracy: 0.9162 - 14s/epoch - 22ms/step\n",
            "Epoch 77/100\n",
            "657/657 - 14s - loss: 0.1951 - accuracy: 0.9150 - 14s/epoch - 22ms/step\n",
            "Epoch 78/100\n",
            "657/657 - 14s - loss: 0.1941 - accuracy: 0.9149 - 14s/epoch - 21ms/step\n",
            "Epoch 79/100\n",
            "657/657 - 14s - loss: 0.1933 - accuracy: 0.9167 - 14s/epoch - 21ms/step\n",
            "Epoch 80/100\n",
            "657/657 - 14s - loss: 0.1895 - accuracy: 0.9198 - 14s/epoch - 21ms/step\n",
            "Epoch 81/100\n",
            "657/657 - 18s - loss: 0.1883 - accuracy: 0.9194 - 18s/epoch - 28ms/step\n",
            "Epoch 82/100\n",
            "657/657 - 13s - loss: 0.1802 - accuracy: 0.9230 - 13s/epoch - 20ms/step\n",
            "Epoch 83/100\n",
            "657/657 - 13s - loss: 0.1791 - accuracy: 0.9243 - 13s/epoch - 20ms/step\n",
            "Epoch 84/100\n",
            "657/657 - 14s - loss: 0.1823 - accuracy: 0.9221 - 14s/epoch - 21ms/step\n",
            "Epoch 85/100\n",
            "657/657 - 14s - loss: 0.1759 - accuracy: 0.9256 - 14s/epoch - 21ms/step\n",
            "Epoch 86/100\n",
            "657/657 - 13s - loss: 0.1703 - accuracy: 0.9273 - 13s/epoch - 20ms/step\n",
            "Epoch 87/100\n",
            "657/657 - 14s - loss: 0.1700 - accuracy: 0.9273 - 14s/epoch - 21ms/step\n",
            "Epoch 88/100\n",
            "657/657 - 14s - loss: 0.1687 - accuracy: 0.9295 - 14s/epoch - 21ms/step\n",
            "Epoch 89/100\n",
            "657/657 - 14s - loss: 0.1696 - accuracy: 0.9287 - 14s/epoch - 21ms/step\n",
            "Epoch 90/100\n",
            "657/657 - 13s - loss: 0.1687 - accuracy: 0.9297 - 13s/epoch - 21ms/step\n",
            "Epoch 91/100\n",
            "657/657 - 14s - loss: 0.1594 - accuracy: 0.9350 - 14s/epoch - 21ms/step\n",
            "Epoch 92/100\n",
            "657/657 - 13s - loss: 0.1593 - accuracy: 0.9326 - 13s/epoch - 21ms/step\n",
            "Epoch 93/100\n",
            "657/657 - 14s - loss: 0.1622 - accuracy: 0.9323 - 14s/epoch - 21ms/step\n",
            "Epoch 94/100\n",
            "657/657 - 14s - loss: 0.1560 - accuracy: 0.9329 - 14s/epoch - 21ms/step\n",
            "Epoch 95/100\n",
            "657/657 - 14s - loss: 0.1554 - accuracy: 0.9338 - 14s/epoch - 21ms/step\n",
            "Epoch 96/100\n",
            "657/657 - 14s - loss: 0.1509 - accuracy: 0.9369 - 14s/epoch - 21ms/step\n",
            "Epoch 97/100\n",
            "657/657 - 14s - loss: 0.1512 - accuracy: 0.9352 - 14s/epoch - 21ms/step\n",
            "Epoch 98/100\n",
            "657/657 - 14s - loss: 0.1452 - accuracy: 0.9393 - 14s/epoch - 21ms/step\n",
            "Epoch 99/100\n",
            "657/657 - 13s - loss: 0.1486 - accuracy: 0.9387 - 13s/epoch - 20ms/step\n",
            "Epoch 100/100\n",
            "657/657 - 15s - loss: 0.1467 - accuracy: 0.9390 - 15s/epoch - 22ms/step\n"
          ]
        },
        {
          "output_type": "execute_result",
          "data": {
            "text/plain": [
              "<keras.src.callbacks.History at 0x7fd955c2f250>"
            ]
          },
          "metadata": {},
          "execution_count": 23
        }
      ]
    },
    {
      "cell_type": "code",
      "metadata": {
        "id": "v9U8gHKYcHir",
        "outputId": "753d8763-def3-4caf-9db1-6c070936f780",
        "colab": {
          "base_uri": "https://localhost:8080/"
        }
      },
      "source": [
        "#quantify the model\n",
        "model_loss, model_accuracy = model.evaluate(X_test,y_test,verbose =2)\n",
        "print( model_loss )\n",
        "print (model_accuracy)"
      ],
      "execution_count": 24,
      "outputs": [
        {
          "output_type": "stream",
          "name": "stdout",
          "text": [
            "282/282 - 1s - loss: 0.9367 - accuracy: 0.7629 - 1s/epoch - 5ms/step\n",
            "0.9367004036903381\n",
            "0.7628889083862305\n"
          ]
        }
      ]
    },
    {
      "cell_type": "code",
      "metadata": {
        "id": "6QeLPBQDcM47"
      },
      "source": [
        "from sklearn.metrics import recall_score"
      ],
      "execution_count": 25,
      "outputs": []
    },
    {
      "cell_type": "code",
      "metadata": {
        "id": "KcO89d6hcO3b",
        "outputId": "bb99a397-cfc2-4b35-db38-72a92a5224fd",
        "colab": {
          "base_uri": "https://localhost:8080/"
        }
      },
      "source": [
        "y_prediction = model.predict(X_test)"
      ],
      "execution_count": 26,
      "outputs": [
        {
          "output_type": "stream",
          "name": "stdout",
          "text": [
            "282/282 [==============================] - 1s 5ms/step\n"
          ]
        }
      ]
    },
    {
      "cell_type": "code",
      "metadata": {
        "id": "kCD8Uc5NcjW0",
        "outputId": "3c44ea3c-fb1f-40e1-a422-5ff02724c67f",
        "colab": {
          "base_uri": "https://localhost:8080/"
        }
      },
      "source": [
        "y_prediction[:3]"
      ],
      "execution_count": 27,
      "outputs": [
        {
          "output_type": "execute_result",
          "data": {
            "text/plain": [
              "array([[0.16161606],\n",
              "       [0.00061117],\n",
              "       [0.04591533]], dtype=float32)"
            ]
          },
          "metadata": {},
          "execution_count": 27
        }
      ]
    },
    {
      "cell_type": "code",
      "metadata": {
        "id": "QNpfE-h_epqL"
      },
      "source": [
        "predictions = np.rint(y_prediction)"
      ],
      "execution_count": 28,
      "outputs": []
    },
    {
      "cell_type": "code",
      "metadata": {
        "id": "IbWFqrl5cVWT",
        "outputId": "a0ec0164-3cd1-40cd-f0f7-bcc9043e752e",
        "colab": {
          "base_uri": "https://localhost:8080/"
        }
      },
      "source": [
        "print(\"Recall score:\"+ str(recall_score(y_test, predictions)))"
      ],
      "execution_count": 29,
      "outputs": [
        {
          "output_type": "stream",
          "name": "stdout",
          "text": [
            "Recall score:0.3637755102040816\n"
          ]
        }
      ]
    },
    {
      "cell_type": "code",
      "source": [
        "from sklearn.metrics import confusion_matrix\n",
        "import itertools\n",
        "import matplotlib\n",
        "import numpy as np\n",
        "import matplotlib.pyplot as plt\n",
        "%matplotlib inline\n",
        "import numpy as np"
      ],
      "metadata": {
        "id": "MwKbzpAx5lBs"
      },
      "execution_count": 30,
      "outputs": []
    },
    {
      "cell_type": "code",
      "source": [
        "def plot_confusion_matrix(cm, classes,\n",
        "                          normalize=False,\n",
        "                          title='Confusion matrix',\n",
        "                          cmap=plt.cm.Blues):\n",
        "    if normalize:\n",
        "        cm = cm.astype('float') / cm.sum(axis=1)[:, np.newaxis]\n",
        "        print(\"Normalized confusion matrix\")\n",
        "    else:\n",
        "        print('Confusion matrix, without normalization')\n",
        "\n",
        "    print(cm)\n",
        "\n",
        "    plt.imshow(cm, interpolation='nearest', cmap=cmap)\n",
        "    plt.title(title)\n",
        "    plt.colorbar()\n",
        "    tick_marks = np.arange(len(classes))\n",
        "    plt.xticks(tick_marks, classes, rotation=45)\n",
        "    plt.yticks(tick_marks, classes)\n",
        "\n",
        "    fmt = '.2f' if normalize else 'd'\n",
        "    thresh = cm.max() / 2.\n",
        "    for i, j in itertools.product(range(cm.shape[0]), range(cm.shape[1])):\n",
        "        plt.text(j, i, format(cm[i, j], fmt),\n",
        "                 horizontalalignment=\"center\",\n",
        "                 color=\"white\" if cm[i, j] > thresh else \"black\")"
      ],
      "metadata": {
        "id": "2S87zEUE5mgs"
      },
      "execution_count": 31,
      "outputs": []
    },
    {
      "cell_type": "code",
      "source": [
        "cnf_matrix = confusion_matrix(y_test, predictions)\n",
        "plt.figure()\n",
        "plot_confusion_matrix(cnf_matrix, classes=['Non_Default','Default'], normalize=False,\n",
        "                      title='Non Normalized confusion matrix')"
      ],
      "metadata": {
        "id": "NrB4Je465uMh",
        "outputId": "6f508f13-8dd6-475d-fc23-58670d7f7ac8",
        "colab": {
          "base_uri": "https://localhost:8080/",
          "height": 563
        }
      },
      "execution_count": 32,
      "outputs": [
        {
          "output_type": "stream",
          "name": "stdout",
          "text": [
            "Confusion matrix, without normalization\n",
            "[[6153  887]\n",
            " [1247  713]]\n"
          ]
        },
        {
          "output_type": "display_data",
          "data": {
            "text/plain": [
              "<Figure size 640x480 with 2 Axes>"
            ],
            "image/png": "[encoded data removed]"
          },
          "metadata": {}
        }
      ]
    }
  ]
}