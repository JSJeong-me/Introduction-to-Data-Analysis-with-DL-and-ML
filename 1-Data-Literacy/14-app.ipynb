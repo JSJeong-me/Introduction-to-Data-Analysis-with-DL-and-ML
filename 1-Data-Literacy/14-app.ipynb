{
  "nbformat": 4,
  "nbformat_minor": 0,
  "metadata": {
    "colab": {
      "provenance": [],
      "authorship_tag": "ABX9TyN0XGGWq+wgH4pyUoxVZWju",
      "include_colab_link": true
    },
    "kernelspec": {
      "name": "python3",
      "display_name": "Python 3"
    },
    "language_info": {
      "name": "python"
    }
  },
  "cells": [
    {
      "cell_type": "markdown",
      "metadata": {
        "id": "view-in-github",
        "colab_type": "text"
      },
      "source": [
        "<a href=\"https://colab.research.google.com/github/JSJeong-me/Introduction-to-Data-Analysis-with-DL-and-ML/blob/main/1-Data-Literacy/14-app.ipynb\" target=\"_parent\"><img src=\"https://colab.research.google.com/assets/colab-badge.svg\" alt=\"Open In Colab\"/></a>"
      ]
    },
    {
      "cell_type": "code",
      "source": [
        "# !pip install flask"
      ],
      "metadata": {
        "id": "RIVljpCRMopm"
      },
      "execution_count": null,
      "outputs": []
    },
    {
      "cell_type": "code",
      "source": [
        "from google.colab.output import eval_js\n",
        "print(eval_js(\"google.colab.kernel.proxyPort(5000)\"))"
      ],
      "metadata": {
        "colab": {
          "base_uri": "https://localhost:8080/",
          "height": 35
        },
        "id": "nA-kAT2TRdjU",
        "outputId": "712f4399-9173-46bd-f169-58522b84940a"
      },
      "execution_count": 1,
      "outputs": [
        {
          "output_type": "stream",
          "name": "stdout",
          "text": [
            "https://swxyiw69tvp-496ff2e9c6d22116-5000-colab.googleusercontent.com/\n"
          ]
        }
      ]
    },
    {
      "cell_type": "code",
      "execution_count": 2,
      "metadata": {
        "id": "aAjnEpLqMWbg"
      },
      "outputs": [],
      "source": [
        "from flask import Flask\n",
        "\n",
        "app = Flask(__name__)"
      ]
    },
    {
      "cell_type": "code",
      "source": [
        "@app.route('/')\n",
        "def hello_world():\n",
        "    # return 'Hello, World!'\n",
        "    return \"<h1>This is a Heading</h1>\"\n",
        "\n",
        "\n",
        "@app.route('/about')\n",
        "def about():\n",
        "    return '<h1>This is the about page.<h1>'"
      ],
      "metadata": {
        "id": "OZTuJbgyJoNI"
      },
      "execution_count": 3,
      "outputs": []
    },
    {
      "cell_type": "code",
      "source": [
        "@app.route('/about/<int:num>')\n",
        "def about_num(num):\n",
        "    return f'<h1>This is the about page {num}.</h1>'"
      ],
      "metadata": {
        "id": "TsH7P-T2ODLc"
      },
      "execution_count": 4,
      "outputs": []
    },
    {
      "cell_type": "code",
      "source": [
        "@app.route('/today')\n",
        "def today():\n",
        "    return '<h1>Today is Monday.<h1>'\n"
      ],
      "metadata": {
        "id": "fjTjyoZqMLTQ"
      },
      "execution_count": 5,
      "outputs": []
    },
    {
      "cell_type": "code",
      "source": [
        "app.run()  # 호스트와 포트 번호를 지정하지 않습니다.\n"
      ],
      "metadata": {
        "id": "SuwRynh7JnRK",
        "outputId": "4dc2db16-08a0-42de-88d0-d7c4b867cc68",
        "colab": {
          "base_uri": "https://localhost:8080/"
        }
      },
      "execution_count": null,
      "outputs": [
        {
          "output_type": "stream",
          "name": "stdout",
          "text": [
            " * Serving Flask app '__main__'\n",
            " * Debug mode: off\n"
          ]
        },
        {
          "output_type": "stream",
          "name": "stderr",
          "text": [
            "INFO:werkzeug:\u001b[31m\u001b[1mWARNING: This is a development server. Do not use it in a production deployment. Use a production WSGI server instead.\u001b[0m\n",
            " * Running on http://127.0.0.1:5000\n",
            "INFO:werkzeug:\u001b[33mPress CTRL+C to quit\u001b[0m\n",
            "INFO:werkzeug:127.0.0.1 - - [15/Apr/2024 05:27:14] \"GET / HTTP/1.1\" 200 -\n",
            "INFO:werkzeug:127.0.0.1 - - [15/Apr/2024 05:27:15] \"\u001b[33mGET /favicon.ico HTTP/1.1\u001b[0m\" 404 -\n",
            "INFO:werkzeug:127.0.0.1 - - [15/Apr/2024 05:27:18] \"GET /about HTTP/1.1\" 200 -\n",
            "INFO:werkzeug:127.0.0.1 - - [15/Apr/2024 05:27:21] \"\u001b[33mGET /favicon.ico HTTP/1.1\u001b[0m\" 404 -\n",
            "INFO:werkzeug:127.0.0.1 - - [15/Apr/2024 05:27:28] \"GET /about/1 HTTP/1.1\" 200 -\n",
            "INFO:werkzeug:127.0.0.1 - - [15/Apr/2024 05:27:28] \"\u001b[33mGET /favicon.ico HTTP/1.1\u001b[0m\" 404 -\n",
            "INFO:werkzeug:127.0.0.1 - - [15/Apr/2024 05:27:34] \"GET /about/2 HTTP/1.1\" 200 -\n",
            "INFO:werkzeug:127.0.0.1 - - [15/Apr/2024 05:27:34] \"\u001b[33mGET /favicon.ico HTTP/1.1\u001b[0m\" 404 -\n",
            "INFO:werkzeug:127.0.0.1 - - [15/Apr/2024 05:27:38] \"GET /about/3 HTTP/1.1\" 200 -\n",
            "INFO:werkzeug:127.0.0.1 - - [15/Apr/2024 05:27:38] \"\u001b[33mGET /favicon.ico HTTP/1.1\u001b[0m\" 404 -\n",
            "INFO:werkzeug:127.0.0.1 - - [15/Apr/2024 05:27:43] \"GET /about/4 HTTP/1.1\" 200 -\n",
            "INFO:werkzeug:127.0.0.1 - - [15/Apr/2024 05:27:43] \"\u001b[33mGET /favicon.ico HTTP/1.1\u001b[0m\" 404 -\n",
            "INFO:werkzeug:127.0.0.1 - - [15/Apr/2024 05:27:46] \"GET /about/5 HTTP/1.1\" 200 -\n",
            "INFO:werkzeug:127.0.0.1 - - [15/Apr/2024 05:27:47] \"\u001b[33mGET /favicon.ico HTTP/1.1\u001b[0m\" 404 -\n"
          ]
        }
      ]
    }
  ]
}