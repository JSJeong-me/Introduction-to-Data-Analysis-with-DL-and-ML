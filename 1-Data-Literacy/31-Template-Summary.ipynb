{
  "nbformat": 4,
  "nbformat_minor": 0,
  "metadata": {
    "colab": {
      "provenance": [],
      "gpuType": "T4",
      "authorship_tag": "ABX9TyPLYbn7DHIKatauCMggA/Mt",
      "include_colab_link": true
    },
    "kernelspec": {
      "name": "python3",
      "display_name": "Python 3"
    },
    "language_info": {
      "name": "python"
    },
    "accelerator": "GPU"
  },
  "cells": [
    {
      "cell_type": "markdown",
      "metadata": {
        "id": "view-in-github",
        "colab_type": "text"
      },
      "source": [
        "<a href=\"https://colab.research.google.com/github/JSJeong-me/Introduction-to-Data-Analysis-with-DL-and-ML/blob/main/1-Data-Literacy/31-Template-Summary.ipynb\" target=\"_parent\"><img src=\"https://colab.research.google.com/assets/colab-badge.svg\" alt=\"Open In Colab\"/></a>"
      ]
    },
    {
      "cell_type": "code",
      "source": [
        "!pip install langchain langchain_openai\n",
        "!pip install openai\n",
        "!pip install python-dotenv"
      ],
      "metadata": {
        "id": "lDa7ban8w3qj"
      },
      "execution_count": null,
      "outputs": []
    },
    {
      "cell_type": "code",
      "source": [
        "!echo \"OPENAI_API_KEY=sk-\" >> .env\n",
        "!source /content/.env\n",
        "\n",
        "import os\n",
        "from dotenv import load_dotenv\n",
        "\n",
        "# Load environment variables from .env file\n",
        "load_dotenv()\n",
        "# Access the API key using the variable name defined in the .env file\n",
        "api_key = os.getenv(\"OPENAI_API_KEY\")"
      ],
      "metadata": {
        "id": "-lvbg_URw7i9"
      },
      "execution_count": 15,
      "outputs": []
    },
    {
      "cell_type": "markdown",
      "source": [
        "### PromptTemplate"
      ],
      "metadata": {
        "id": "GMxhTBEojO4L"
      }
    },
    {
      "cell_type": "code",
      "source": [
        "text = \"\"\"\n",
        "로이터·AFP 통신, 타임스오브이스라엘 등에 따르면 이슬람혁명수비대(IRGC)는 이날 성명을 통해 \"이달 초 이스라엘군(IDF)이 시리아 주재 자국 영사관을 공격 등 이스라엘의 반복된 범죄에 대한 대응으로 '진실의 약속 작전(Operation True Promise)'을 개시했다\"면서 \"수십 대의 드론과 순항미사일 등을 이용해 이스라엘 영토에 있는 특정 목표물을 타격할 것\"이라고 밝혔다. 1979년 혁명으로 이란에 이슬람 공화국이 들어선 이후 '앙숙' 이스라엘을 향한 전면 공격은 처음 있는 일이라고 AP통신은 전했다.\n",
        "\n",
        "친(親)이란 세력인 레바논 무장 정파 헤즈볼라는 이스라엘 북부 골란고원에 로켓을 발사하고, 예멘의 후티 반군은 이스라엘 항구를 향해 여러 대의 드론을 날려 이란을 지원했다.\n",
        "\"\"\""
      ],
      "metadata": {
        "id": "GpVpSWBZjXsq"
      },
      "execution_count": 16,
      "outputs": []
    },
    {
      "cell_type": "code",
      "source": [
        "from langchain.prompts import PromptTemplate\n",
        "\n",
        "prompt_template = PromptTemplate.from_template(\n",
        "    \"{content} {action} a in 3 sentences.\"\n",
        ")\n",
        "\n",
        "prompt = prompt_template.format(action=\"summarize\", content=text)"
      ],
      "metadata": {
        "id": "R2D-fK4ojOYi"
      },
      "execution_count": 17,
      "outputs": []
    },
    {
      "cell_type": "code",
      "source": [
        "from langchain_openai import ChatOpenAI\n",
        "\n",
        "chat = ChatOpenAI(model=\"gpt-3.5-turbo-0125\")"
      ],
      "metadata": {
        "id": "rO87r1F6nZUc"
      },
      "execution_count": 18,
      "outputs": []
    },
    {
      "cell_type": "code",
      "source": [
        "chat.invoke(messages)"
      ],
      "metadata": {
        "id": "gltT33vWnBti",
        "outputId": "d9bc82d4-4839-4f55-8c6c-80d267224cc3",
        "colab": {
          "base_uri": "https://localhost:8080/"
        }
      },
      "execution_count": 19,
      "outputs": [
        {
          "output_type": "execute_result",
          "data": {
            "text/plain": [
              "AIMessage(content=\"이란의 이슬람혁명수비대(IRGC)가 '진실의 약속 작전(Operation True Promise)'을 선포하여 이스라엘에 대한 보복을 시작했다고 밝혔다. 이번 작전은 이스라엘의 반복된 범죄에 대한 대응으로 이스라엘 영토에 있는 특정 목표물을 타격할 것이라고 밝혀졌다. 레바논의 헤즈볼라와 예멘의 후티 반군도 해당 작전에 참여하여 이스라엘에 로켓과 드론을 사용한 공격을 진행했다.\", response_metadata={'token_usage': {'completion_tokens': 198, 'prompt_tokens': 401, 'total_tokens': 599}, 'model_name': 'gpt-3.5-turbo-0125', 'system_fingerprint': 'fp_c2295e73ad', 'finish_reason': 'stop', 'logprobs': None}, id='run-0e61380e-4163-4452-b943-53454e0c66cc-0')"
            ]
          },
          "metadata": {},
          "execution_count": 19
        }
      ]
    }
  ]
}