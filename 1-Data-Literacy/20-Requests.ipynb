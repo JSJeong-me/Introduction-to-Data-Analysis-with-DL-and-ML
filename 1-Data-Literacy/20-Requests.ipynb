{
  "nbformat": 4,
  "nbformat_minor": 0,
  "metadata": {
    "colab": {
      "name": "Untitled4.ipynb",
      "provenance": [],
      "authorship_tag": "ABX9TyPeB0j6VCbRG92LLDGKn8KZ",
      "include_colab_link": true
    },
    "kernelspec": {
      "name": "python3",
      "display_name": "Python 3"
    },
    "language_info": {
      "name": "python"
    }
  },
  "cells": [
    {
      "cell_type": "markdown",
      "metadata": {
        "id": "view-in-github",
        "colab_type": "text"
      },
      "source": [
        "<a href=\"https://colab.research.google.com/github/JSJeong-me/Introduction-to-Data-Analysis-with-DL-and-ML/blob/main/1-Data-Literacy/20-Requests.ipynb\" target=\"_parent\"><img src=\"https://colab.research.google.com/assets/colab-badge.svg\" alt=\"Open In Colab\"/></a>"
      ]
    },
    {
      "cell_type": "code",
      "execution_count": null,
      "metadata": {
        "id": "ifhNh5ad0Vzi"
      },
      "outputs": [],
      "source": [
        "# !pip install requests"
      ]
    },
    {
      "cell_type": "markdown",
      "source": [
        "### URL 요청하기 - get"
      ],
      "metadata": {
        "id": "OXmh7F2P2sWi"
      }
    },
    {
      "cell_type": "code",
      "source": [
        "import requests\n",
        "\n",
        "response = requests.get('https://www.naver.com/')\n",
        "\n",
        "print(response.status_code)\n",
        "# print(response.text)"
      ],
      "metadata": {
        "id": "owBe9Ni62mep"
      },
      "execution_count": null,
      "outputs": []
    },
    {
      "cell_type": "markdown",
      "source": [
        "### 파라미터를 전달하는 방법"
      ],
      "metadata": {
        "id": "zygyZc_A2_v1"
      }
    },
    {
      "cell_type": "code",
      "source": [
        "import requests\n",
        "\n",
        "url = 'https://section.blog.naver.com/Search/Post.nhn?pageNo=1&rangeType=ALL&orderBy=sim&keyword=%ED%8C%8C%EC%9D%B4%EC%8D%AC'\n",
        "\n",
        "params = {\n",
        "    'pageNo' : 1,\n",
        "    'rangeType' : 'ALL',\n",
        "    'orderBy' : 'sim',\n",
        "    'keyword' : '파이썬'\n",
        "}\n",
        "\n",
        "response = requests.get('https://section.blog.naver.com/Search/Post.nhn', params=params)\n",
        "\n",
        "print(response.status_code)\n",
        "print(response.url)"
      ],
      "metadata": {
        "id": "zBS6MpBr287d"
      },
      "execution_count": null,
      "outputs": []
    }
  ]
}