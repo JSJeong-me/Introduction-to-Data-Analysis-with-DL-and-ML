{
  "nbformat": 4,
  "nbformat_minor": 0,
  "metadata": {
    "colab": {
      "provenance": [],
      "authorship_tag": "ABX9TyM/yGmVprUZbcW7kErGTyLb",
      "include_colab_link": true
    },
    "kernelspec": {
      "name": "python3",
      "display_name": "Python 3"
    },
    "language_info": {
      "name": "python"
    }
  },
  "cells": [
    {
      "cell_type": "markdown",
      "metadata": {
        "id": "view-in-github",
        "colab_type": "text"
      },
      "source": [
        "<a href=\"https://colab.research.google.com/github/JSJeong-me/Introduction-to-Data-Analysis-with-DL-and-ML/blob/main/1-Data-Literacy/20-Requests.ipynb\" target=\"_parent\"><img src=\"https://colab.research.google.com/assets/colab-badge.svg\" alt=\"Open In Colab\"/></a>"
      ]
    },
    {
      "cell_type": "code",
      "execution_count": null,
      "metadata": {
        "id": "v4e8U1jtDhdL"
      },
      "outputs": [],
      "source": [
        "import requests\n",
        "from bs4 import BeautifulSoup"
      ]
    },
    {
      "cell_type": "code",
      "source": [
        "res = requests.get('https://www.tutorialspoint.com/tutorialslibrary.htm')"
      ],
      "metadata": {
        "id": "0gwwWfJHDlYl"
      },
      "execution_count": null,
      "outputs": []
    },
    {
      "cell_type": "code",
      "source": [
        "print(\"The status code is \", res.status_code)\n",
        "print(\"\\n\")"
      ],
      "metadata": {
        "id": "vsABkt-wDnHO"
      },
      "execution_count": null,
      "outputs": []
    },
    {
      "cell_type": "code",
      "source": [
        "soup_data = BeautifulSoup(res.text, 'html.parser')\n",
        "print(soup_data.title)\n",
        "print(\"\\n\")"
      ],
      "metadata": {
        "id": "jKeH92VADo-t"
      },
      "execution_count": null,
      "outputs": []
    },
    {
      "cell_type": "code",
      "source": [
        "print(soup_data.find_all('h2'))"
      ],
      "metadata": {
        "id": "3u9hy8MIDq2W"
      },
      "execution_count": null,
      "outputs": []
    },
    {
      "cell_type": "code",
      "source": [],
      "metadata": {
        "id": "2QYQ8VqwD3AQ"
      },
      "execution_count": null,
      "outputs": []
    }
  ]
}