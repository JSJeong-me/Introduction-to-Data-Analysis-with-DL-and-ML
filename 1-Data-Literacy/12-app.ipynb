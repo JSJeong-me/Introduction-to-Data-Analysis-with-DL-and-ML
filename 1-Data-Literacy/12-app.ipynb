{
  "nbformat": 4,
  "nbformat_minor": 0,
  "metadata": {
    "colab": {
      "provenance": [],
      "authorship_tag": "ABX9TyN9L1E/XKxocvAxVExqKSo4",
      "include_colab_link": true
    },
    "kernelspec": {
      "name": "python3",
      "display_name": "Python 3"
    },
    "language_info": {
      "name": "python"
    }
  },
  "cells": [
    {
      "cell_type": "markdown",
      "metadata": {
        "id": "view-in-github",
        "colab_type": "text"
      },
      "source": [
        "<a href=\"https://colab.research.google.com/github/JSJeong-me/Introduction-to-Data-Analysis-with-DL-and-ML/blob/main/1-Data-Literacy/12-app.ipynb\" target=\"_parent\"><img src=\"https://colab.research.google.com/assets/colab-badge.svg\" alt=\"Open In Colab\"/></a>"
      ]
    },
    {
      "cell_type": "code",
      "source": [
        "# !pip install flask"
      ],
      "metadata": {
        "id": "RIVljpCRMopm"
      },
      "execution_count": null,
      "outputs": []
    },
    {
      "cell_type": "code",
      "source": [
        "from google.colab.output import eval_js\n",
        "print(eval_js(\"google.colab.kernel.proxyPort(5000)\"))"
      ],
      "metadata": {
        "id": "nA-kAT2TRdjU"
      },
      "execution_count": null,
      "outputs": []
    },
    {
      "cell_type": "markdown",
      "source": [
        "https://www.w3schools.com/html/tryit.asp?filename=tryhtml_default"
      ],
      "metadata": {
        "id": "slKYfkQBZo5Y"
      }
    },
    {
      "cell_type": "markdown",
      "source": [
        "<!DOCTYPE html>\n",
        "<html>\n",
        "<head>\n",
        "<title>Page Title</title>\n",
        "</head>\n",
        "<body>\n",
        "\n",
        "<h1>This is a Heading</h1>\n",
        "<p>This is a paragraph.</p>\n",
        "\n",
        "</body>\n",
        "</html>\n"
      ],
      "metadata": {
        "id": "HRmpxRbYZl2B"
      }
    },
    {
      "cell_type": "code",
      "execution_count": null,
      "metadata": {
        "id": "aAjnEpLqMWbg"
      },
      "outputs": [],
      "source": [
        "from flask import Flask\n",
        "\n",
        "app = Flask(__name__)\n",
        "\n",
        "\n",
        "@app.route('/')\n",
        "def hello_world():\n",
        "    # return 'Hello, World!'\n",
        "    # return \"<p>Hello, World!</p>\"\n",
        "    return \"<h1>This is a Heading</h1>\"\n",
        "\n",
        "\n",
        "@app.route('/about')\n",
        "def about():\n",
        "    return 'This is the about page.'\n",
        "\n",
        "\n",
        "if __name__ == \"__main__\":\n",
        "    app.run()  # 호스트와 포트 번호를 지정하지 않습니다.\n"
      ]
    }
  ]
}