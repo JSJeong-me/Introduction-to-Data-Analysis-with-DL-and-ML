{
  "nbformat": 4,
  "nbformat_minor": 0,
  "metadata": {
    "kernelspec": {
      "display_name": "Python 3",
      "language": "python",
      "name": "python3"
    },
    "language_info": {
      "codemirror_mode": {
        "name": "ipython",
        "version": 3
      },
      "file_extension": ".py",
      "mimetype": "text/x-python",
      "name": "python",
      "nbconvert_exporter": "python",
      "pygments_lexer": "ipython3",
      "version": "3.7.6"
    },
    "colab": {
      "name": "0-Machine_Learning.ipynb",
      "provenance": [],
      "include_colab_link": true
    }
  },
  "cells": [
    {
      "cell_type": "markdown",
      "metadata": {
        "id": "view-in-github",
        "colab_type": "text"
      },
      "source": [
        "<a href=\"https://colab.research.google.com/github/JSJeong-me/Introduction-to-Data-Analysis-with-DL-and-ML/blob/main/2-ML/10-Machine_Learning.ipynb\" target=\"_parent\"><img src=\"https://colab.research.google.com/assets/colab-badge.svg\" alt=\"Open In Colab\"/></a>"
      ]
    },
    {
      "cell_type": "code",
      "metadata": {
        "id": "7mYZCj1y8OcX"
      },
      "source": [
        "# from numpy import exp, array, random, dot"
      ],
      "execution_count": null,
      "outputs": []
    },
    {
      "cell_type": "code",
      "metadata": {
        "id": "7eaBoQkJ8Oca"
      },
      "source": [
        "import numpy as np"
      ],
      "execution_count": null,
      "outputs": []
    },
    {
      "cell_type": "code",
      "metadata": {
        "id": "Itm1nTYL8Oca"
      },
      "source": [
        "training_set_inputs = np.array([[0, 0, 1], [1, 1, 1], [1, 0, 1], [0, 1, 1]])"
      ],
      "execution_count": null,
      "outputs": []
    },
    {
      "cell_type": "code",
      "metadata": {
        "id": "WP2r2fcp-BrX"
      },
      "source": [
        "training_set_inputs"
      ],
      "execution_count": null,
      "outputs": []
    },
    {
      "cell_type": "code",
      "metadata": {
        "id": "HLvr82zx8Ocb"
      },
      "source": [
        "training_set_outputs = np.array([0, 1, 1, 0]).reshape(-1,1)\n",
        "#training_set_outputs = array([[0, 1, 1, 0]]).T"
      ],
      "execution_count": null,
      "outputs": []
    },
    {
      "cell_type": "code",
      "metadata": {
        "id": "nKkPyAD0917V"
      },
      "source": [
        "training_set_outputs"
      ],
      "execution_count": null,
      "outputs": []
    },
    {
      "cell_type": "code",
      "metadata": {
        "id": "htoqXgqo96fO"
      },
      "source": [
        "training_set_outputs.shape"
      ],
      "execution_count": null,
      "outputs": []
    },
    {
      "cell_type": "code",
      "metadata": {
        "id": "ky8bgedT8Ocb"
      },
      "source": [
        "training_set_outputs"
      ],
      "execution_count": null,
      "outputs": []
    },
    {
      "cell_type": "code",
      "metadata": {
        "id": "u0a_z2j_8Occ"
      },
      "source": [
        "training_set_outputs.shape"
      ],
      "execution_count": null,
      "outputs": []
    },
    {
      "cell_type": "code",
      "metadata": {
        "id": "c_CnLk7M8Occ"
      },
      "source": [
        "training_set_inputs.shape"
      ],
      "execution_count": null,
      "outputs": []
    },
    {
      "cell_type": "code",
      "metadata": {
        "id": "Eh3-p40X8Ocd"
      },
      "source": [
        "np.random.seed(1)\n",
        "synaptic_weights = 2 * np.random.random((3, 1)) - 1\n",
        "\n",
        "for iteration in range(10000):\n",
        "    output = 1 / (1 + np.exp(-(np.dot(training_set_inputs, synaptic_weights))))\n",
        "    synaptic_weights += np.dot(training_set_inputs.T, (training_set_outputs - output) * output * (1 - output))"
      ],
      "execution_count": null,
      "outputs": []
    },
    {
      "cell_type": "code",
      "metadata": {
        "id": "Y6ZzemFr8Ocd"
      },
      "source": [
        "synaptic_weights"
      ],
      "execution_count": null,
      "outputs": []
    },
    {
      "cell_type": "code",
      "metadata": {
        "id": "oThSfBY88Oce"
      },
      "source": [
        "print (1 / (1 + np.exp(-(np.dot(np.array([0, 1, 0]), synaptic_weights)))))"
      ],
      "execution_count": null,
      "outputs": []
    },
    {
      "cell_type": "code",
      "metadata": {
        "id": "Fhj8WRIt8Oce"
      },
      "source": [],
      "execution_count": null,
      "outputs": []
    }
  ]
}