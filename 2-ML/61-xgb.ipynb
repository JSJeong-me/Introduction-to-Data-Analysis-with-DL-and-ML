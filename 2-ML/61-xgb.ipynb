{
  "cells": [
    {
      "cell_type": "markdown",
      "metadata": {
        "id": "view-in-github",
        "colab_type": "text"
      },
      "source": [
        "<a href=\"https://colab.research.google.com/github/JSJeong-me/Introduction-to-Data-Analysis-with-DL-and-ML/blob/main/2-ML/61-xgb.ipynb\" target=\"_parent\"><img src=\"https://colab.research.google.com/assets/colab-badge.svg\" alt=\"Open In Colab\"/></a>"
      ]
    },
    {
      "cell_type": "markdown",
      "metadata": {
        "id": "c-aq2YCQty3p"
      },
      "source": [
        "### XGBoosting\n",
        "\n",
        "https://nbviewer.jupyter.org/github/jphall663/interpretable_machine_learning_with_python/blob/master/xgboost_pdp_ice.ipynb?flush_cache=trueXGBoosting\n"
      ]
    },
    {
      "cell_type": "code",
      "execution_count": 1,
      "metadata": {
        "id": "Wrxm1gDEty3s"
      },
      "outputs": [],
      "source": [
        "import numpy as np                   # array, vector, matrix calculations\n",
        "import pandas as pd                  # DataFrame handling\n",
        "#import shapely as shap                          # for consistent, signed variable importance measurements\n",
        "import xgboost as xgb                # gradient boosting machines (GBMs)\n",
        "\n",
        "import matplotlib.pyplot as plt      # plotting\n",
        "pd.options.display.max_columns = 999 # enable display of all columns in notebook\n",
        "\n",
        "# enables display of plots in notebook\n",
        "%matplotlib inline\n",
        "\n",
        "np.random.seed(42)               # set random seed for reproducibility"
      ]
    },
    {
      "cell_type": "markdown",
      "metadata": {
        "id": "4vej2Jg6ty3t"
      },
      "source": [
        "#### Import data and clean"
      ]
    },
    {
      "cell_type": "code",
      "execution_count": 2,
      "metadata": {
        "id": "ISae6sCPty3u"
      },
      "outputs": [],
      "source": [
        "# import XLS file\n",
        "path = \"./credit_cards_dataset.csv\"\n",
        "\n",
        "data = pd.read_csv(path) # skip the first row of the spreadsheet"
      ]
    },
    {
      "cell_type": "code",
      "source": [
        "data.columns"
      ],
      "metadata": {
        "colab": {
          "base_uri": "https://localhost:8080/"
        },
        "id": "HA3ME_Afvn0K",
        "outputId": "9cf24a05-6e56-4273-c136-7cdafb0a1866"
      },
      "execution_count": 3,
      "outputs": [
        {
          "output_type": "execute_result",
          "data": {
            "text/plain": [
              "Index(['ID', 'LIMIT_BAL', 'SEX', 'EDUCATION', 'MARRIAGE', 'AGE', 'PAY_0',\n",
              "       'PAY_2', 'PAY_3', 'PAY_4', 'PAY_5', 'PAY_6', 'BILL_AMT1', 'BILL_AMT2',\n",
              "       'BILL_AMT3', 'BILL_AMT4', 'BILL_AMT5', 'BILL_AMT6', 'PAY_AMT1',\n",
              "       'PAY_AMT2', 'PAY_AMT3', 'PAY_AMT4', 'PAY_AMT5', 'PAY_AMT6',\n",
              "       'default.payment.next.month'],\n",
              "      dtype='object')"
            ]
          },
          "metadata": {},
          "execution_count": 3
        }
      ]
    },
    {
      "cell_type": "code",
      "execution_count": 4,
      "metadata": {
        "id": "9u8t0mp1ty3u"
      },
      "outputs": [],
      "source": [
        "# remove spaces from target column name\n",
        "data = data.rename(columns={'default.payment.next.month': 'DEFAULT_NEXT_MONTH'})"
      ]
    },
    {
      "cell_type": "code",
      "execution_count": 5,
      "metadata": {
        "id": "B5sYll_cty3u",
        "colab": {
          "base_uri": "https://localhost:8080/"
        },
        "outputId": "6e181217-7977-44e5-8b6c-c7d9b05909bd"
      },
      "outputs": [
        {
          "output_type": "execute_result",
          "data": {
            "text/plain": [
              "Index(['ID', 'LIMIT_BAL', 'SEX', 'EDUCATION', 'MARRIAGE', 'AGE', 'PAY_0',\n",
              "       'PAY_2', 'PAY_3', 'PAY_4', 'PAY_5', 'PAY_6', 'BILL_AMT1', 'BILL_AMT2',\n",
              "       'BILL_AMT3', 'BILL_AMT4', 'BILL_AMT5', 'BILL_AMT6', 'PAY_AMT1',\n",
              "       'PAY_AMT2', 'PAY_AMT3', 'PAY_AMT4', 'PAY_AMT5', 'PAY_AMT6',\n",
              "       'DEFAULT_NEXT_MONTH'],\n",
              "      dtype='object')"
            ]
          },
          "metadata": {},
          "execution_count": 5
        }
      ],
      "source": [
        "data.columns"
      ]
    },
    {
      "cell_type": "code",
      "execution_count": null,
      "metadata": {
        "id": "G11oVD2_ty3w"
      },
      "outputs": [],
      "source": [
        "#profile.to_file(outputfile=\"my.html\")"
      ]
    },
    {
      "cell_type": "code",
      "execution_count": null,
      "metadata": {
        "id": "JMnZUfnXty3w"
      },
      "outputs": [],
      "source": [
        "data.head(10)"
      ]
    },
    {
      "cell_type": "code",
      "execution_count": null,
      "metadata": {
        "id": "uzZNnQasty3x"
      },
      "outputs": [],
      "source": [
        "# assign target and inputs for GBM\n",
        "y = 'DEFAULT_NEXT_MONTH'\n",
        "# y='default.payment.next.month'\n",
        "X = [name for name in data.columns if name not in [y, 'ID', 'Y_Value']]\n",
        "print('y =', y)\n",
        "print('X =', X)"
      ]
    },
    {
      "cell_type": "code",
      "execution_count": null,
      "metadata": {
        "id": "WbptUoBHty3x"
      },
      "outputs": [],
      "source": [
        "data[X].describe()"
      ]
    },
    {
      "cell_type": "code",
      "execution_count": null,
      "metadata": {
        "id": "xb1yQZRRty3x"
      },
      "outputs": [],
      "source": [
        "data[X]"
      ]
    },
    {
      "cell_type": "code",
      "execution_count": null,
      "metadata": {
        "id": "YFMspk8aty3y"
      },
      "outputs": [],
      "source": [
        "data[X + [y]].describe() # display descriptive statistics for all columns"
      ]
    },
    {
      "cell_type": "code",
      "execution_count": null,
      "metadata": {
        "id": "POcAzhgaty3y"
      },
      "outputs": [],
      "source": [
        "# displays last column of Pearson correlation matrix as Pandas DataFrame\n",
        "pd.DataFrame(data[X + [y]].corr(method='spearman')[y]).iloc[:-1]"
      ]
    },
    {
      "cell_type": "code",
      "execution_count": null,
      "metadata": {
        "id": "Ky-2sYFity3y"
      },
      "outputs": [],
      "source": []
    },
    {
      "cell_type": "code",
      "execution_count": 16,
      "metadata": {
        "id": "TNE2yzlsty3y"
      },
      "outputs": [],
      "source": [
        "# creates a tuple in which positive correlation values are assigned a 1\n",
        "# and negative correlation values are assigned a -1\n",
        "mono_constraints = tuple([int(i) for i in np.sign(data[X + [y]].corr()[y].values[:-1])])\n",
        "\n",
        "# (-1, -1, 1, -1, 1, 1, 1, 1, 1, 1, 1, -1, -1, -1, -1, -1, -1, -1, -1, -1, -1, -1, -1)"
      ]
    },
    {
      "cell_type": "code",
      "execution_count": 17,
      "metadata": {
        "id": "-WpPY0LVty3z",
        "colab": {
          "base_uri": "https://localhost:8080/"
        },
        "outputId": "038897fd-7891-4c93-c042-9ffa67bfab37"
      },
      "outputs": [
        {
          "output_type": "stream",
          "name": "stdout",
          "text": [
            "Train data rows = 21087, columns = 25\n",
            "Test data rows = 8913, columns = 25\n"
          ]
        }
      ],
      "source": [
        "np.random.seed(42) # set random seed for reproducibility\n",
        "split_ratio = 0.7     # 70%/30% train/test split\n",
        "\n",
        "# execute split\n",
        "split = np.random.rand(len(data)) < split_ratio\n",
        "train = data[split]\n",
        "test = data[~split]\n",
        "\n",
        "# summarize split\n",
        "print('Train data rows = %d, columns = %d' % (train.shape[0], train.shape[1]))\n",
        "print('Test data rows = %d, columns = %d' % (test.shape[0], test.shape[1]))"
      ]
    },
    {
      "cell_type": "code",
      "execution_count": 18,
      "metadata": {
        "id": "mQxbNjlEty3z"
      },
      "outputs": [],
      "source": [
        "# XGBoost uses SVMLight data structure, not Numpy arrays or Pandas DataFrames\n",
        "dtrain = xgb.DMatrix(train[X], train[y])\n",
        "dtest = xgb.DMatrix(test[X], test[y])"
      ]
    },
    {
      "cell_type": "code",
      "execution_count": 19,
      "metadata": {
        "id": "jAD2grDRty3z"
      },
      "outputs": [],
      "source": [
        "# used to calibrate predictions to mean of y\n",
        "base_y = train[y].mean()\n",
        "\n",
        "# tuning parameters\n",
        "params = {\n",
        "    'objective': 'binary:logistic',             # produces 0-1 probabilities for binary classification\n",
        "    'booster': 'gbtree',                        # base learner will be decision tree\n",
        "    'eval_metric': 'auc',                       # stop training based on maximum AUC, AUC always between 0-1\n",
        "    'eta': 0.08,                                # learning rate\n",
        "    'subsample': 0.9,                           # use 90% of rows in each decision tree\n",
        "    'colsample_bytree': 0.9,                    # use 90% of columns in each decision tree\n",
        "    'max_depth': 15,                            # allow decision trees to grow to depth of 15\n",
        "    'monotone_constraints':mono_constraints,    # 1 = increasing relationship, -1 = decreasing relationship\n",
        "    'base_score': base_y,                       # calibrate predictions to mean of y\n",
        "    'seed': 42                               # set random seed for reproducibility\n",
        "}\n",
        "\n",
        "# watchlist is used for early stopping\n",
        "watchlist = [(dtrain, 'train'), (dtest, 'eval')]"
      ]
    },
    {
      "cell_type": "code",
      "source": [
        "# train model\n",
        "xgb_model = xgb.train(params,                   # set tuning parameters from above\n",
        "                      dtrain,                   # training data\n",
        "                      1000,                     # maximum of 1000 iterations (trees)\n",
        "                      evals=watchlist,          # use watchlist for early stopping\n",
        "                      early_stopping_rounds=50, # stop after 50 iterations (trees) without increase in AUC\n",
        "                      verbose_eval=True)        # display iteration progress"
      ],
      "metadata": {
        "id": "86vd82RhxqE0"
      },
      "execution_count": null,
      "outputs": []
    },
    {
      "cell_type": "code",
      "execution_count": null,
      "metadata": {
        "id": "N_m3GPWqty30"
      },
      "outputs": [],
      "source": []
    },
    {
      "cell_type": "code",
      "execution_count": 22,
      "metadata": {
        "id": "Eceo7_v2ty30"
      },
      "outputs": [],
      "source": [
        "# dtest is DMatrix\n",
        "# shap_values is Numpy array\n",
        "shap_values = xgb_model.predict(dtest, pred_contribs=True) #, ntree_limit=xgb_model.best_ntree_limit"
      ]
    },
    {
      "cell_type": "code",
      "execution_count": 24,
      "metadata": {
        "id": "xCL9swBmty30"
      },
      "outputs": [],
      "source": [
        "ypred=xgb_model.predict(dtest) #  ntree_limit=xgb_model.best_ntree_limit"
      ]
    },
    {
      "cell_type": "code",
      "source": [
        "ypred[:10]"
      ],
      "metadata": {
        "id": "nXXAdgyIyafJ",
        "outputId": "96d2a89b-7e50-4a62-f215-f68fae82eae1",
        "colab": {
          "base_uri": "https://localhost:8080/"
        }
      },
      "execution_count": 26,
      "outputs": [
        {
          "output_type": "execute_result",
          "data": {
            "text/plain": [
              "array([0.3041    , 0.1185302 , 0.14462541, 0.19160384, 0.08326435,\n",
              "       0.05881941, 0.13851725, 0.00990946, 0.04653033, 0.18977793],\n",
              "      dtype=float32)"
            ]
          },
          "metadata": {},
          "execution_count": 26
        }
      ]
    },
    {
      "cell_type": "code",
      "execution_count": 27,
      "metadata": {
        "id": "DiXoHQNyty30"
      },
      "outputs": [],
      "source": [
        "ypred.reshape(-1,1)\n",
        "predictions = np.array([round(value) for value in ypred])"
      ]
    },
    {
      "cell_type": "code",
      "execution_count": 28,
      "metadata": {
        "id": "nxNTHCzXty31",
        "colab": {
          "base_uri": "https://localhost:8080/"
        },
        "outputId": "104f054d-dbce-44a0-c4ed-271cf9fda1dd"
      },
      "outputs": [
        {
          "output_type": "execute_result",
          "data": {
            "text/plain": [
              "array([[0],\n",
              "       [0],\n",
              "       [0],\n",
              "       ...,\n",
              "       [1],\n",
              "       [0],\n",
              "       [0]])"
            ]
          },
          "metadata": {},
          "execution_count": 28
        }
      ],
      "source": [
        "predictions.reshape(-1,1)"
      ]
    },
    {
      "cell_type": "code",
      "execution_count": 29,
      "metadata": {
        "id": "4IQRezwzty31"
      },
      "outputs": [],
      "source": [
        "from sklearn.model_selection import train_test_split\n",
        "from sklearn.metrics import accuracy_score\n",
        "from sklearn.metrics import confusion_matrix\n",
        "from sklearn.metrics import precision_score\n",
        "from sklearn.metrics import recall_score\n",
        "from sklearn import metrics\n",
        "from sklearn.model_selection import GridSearchCV\n",
        "\n",
        "accuracy = accuracy_score(test[y], predictions)\n",
        "cm = confusion_matrix(test[y], predictions)\n",
        "precision = precision_score(test[y], predictions)\n",
        "recall = recall_score(test[y], predictions)"
      ]
    },
    {
      "cell_type": "code",
      "execution_count": 30,
      "metadata": {
        "id": "-OvYyHZAty31",
        "colab": {
          "base_uri": "https://localhost:8080/"
        },
        "outputId": "5760b760-1423-4da7-c0c1-e9957691893b"
      },
      "outputs": [
        {
          "output_type": "stream",
          "name": "stdout",
          "text": [
            "0.817345450465612\n",
            "[[6549  356]\n",
            " [1272  736]]\n",
            "0.673992673992674\n",
            "0.3665338645418327\n"
          ]
        }
      ],
      "source": [
        "print(accuracy)\n",
        "print(cm)\n",
        "print(precision)\n",
        "print(recall)"
      ]
    },
    {
      "cell_type": "code",
      "execution_count": 31,
      "metadata": {
        "id": "hmvAWC_Tty31"
      },
      "outputs": [],
      "source": [
        "import matplotlib\n",
        "import matplotlib.pyplot as plt\n",
        "%matplotlib inline\n",
        "import itertools\n",
        "\n",
        "def plot_confusion_matrix(cm, classes,\n",
        "                          normalize=False,\n",
        "                          title='Confusion matrix',\n",
        "                          cmap=plt.cm.Blues):\n",
        "    if normalize:\n",
        "        cm = cm.astype('float') / cm.sum(axis=1)[:, np.newaxis]\n",
        "        print(\"Normalized confusion matrix\")\n",
        "    else:\n",
        "        print('Confusion matrix, without normalization')\n",
        "\n",
        "    print(cm)\n",
        "\n",
        "    plt.imshow(cm, interpolation='nearest', cmap=cmap)\n",
        "    plt.title(title)\n",
        "    plt.colorbar()\n",
        "    tick_marks = np.arange(len(classes))\n",
        "    plt.xticks(tick_marks, classes, rotation=45)\n",
        "    plt.yticks(tick_marks, classes)\n",
        "\n",
        "    fmt = '.2f' if normalize else 'd'\n",
        "    thresh = cm.max() / 2.\n",
        "    for i, j in itertools.product(range(cm.shape[0]), range(cm.shape[1])):\n",
        "        plt.text(j, i, format(cm[i, j], fmt),\n",
        "                 horizontalalignment=\"center\",\n",
        "                 color=\"white\" if cm[i, j] > thresh else \"black\")"
      ]
    },
    {
      "cell_type": "code",
      "execution_count": 32,
      "metadata": {
        "id": "dxBZKB8Cty32",
        "colab": {
          "base_uri": "https://localhost:8080/",
          "height": 563
        },
        "outputId": "7fbebdd3-56a2-40a7-9c44-29590292b790"
      },
      "outputs": [
        {
          "output_type": "stream",
          "name": "stdout",
          "text": [
            "Confusion matrix, without normalization\n",
            "[[6549  356]\n",
            " [1272  736]]\n"
          ]
        },
        {
          "output_type": "display_data",
          "data": {
            "text/plain": [
              "<Figure size 640x480 with 2 Axes>"
            ],
            "image/png": "[encoded data removed]"
          },
          "metadata": {}
        }
      ],
      "source": [
        "plt.figure()\n",
        "plot_confusion_matrix(cm, classes=['Non_Default','Default'], normalize=False,\n",
        "                      title='Non Normalized confusion matrix')"
      ]
    },
    {
      "cell_type": "code",
      "execution_count": null,
      "metadata": {
        "id": "VXyv5igDty32"
      },
      "outputs": [],
      "source": [
        "# plot Shapley variable importance summary\n",
        "#import shap\n",
        "#shap.summary_plot(shap_values[:, :-1], test[xgb_model.feature_names])\n",
        "#shap.TreeExplainer(shap_values[:, :-1], test[xgb_model.feature_names])"
      ]
    },
    {
      "cell_type": "code",
      "execution_count": null,
      "metadata": {
        "id": "XrEagOttty32"
      },
      "outputs": [],
      "source": [
        "#https://www.kaggle.com/dansbecker/shap-values"
      ]
    },
    {
      "cell_type": "markdown",
      "metadata": {
        "id": "bre_mftoty32"
      },
      "source": [
        "### PDP"
      ]
    },
    {
      "cell_type": "code",
      "execution_count": null,
      "metadata": {
        "id": "t235fcOUty32"
      },
      "outputs": [],
      "source": [
        "def par_dep(xs, frame, model, resolution=20, bins=None):\n",
        "\n",
        "    \"\"\" Creates Pandas DataFrame containing partial dependence for a\n",
        "        single variable.\n",
        "\n",
        "    Args:\n",
        "        xs: Variable for which to calculate partial dependence.\n",
        "        frame: Pandas DataFrame for which to calculate partial dependence.\n",
        "        model: XGBoost model for which to calculate partial dependence.\n",
        "        resolution: The number of points across the domain of xs for which\n",
        "                    to calculate partial dependence, default 20.\n",
        "        bins: List of values at which to set xs, default 20 equally-spaced\n",
        "              points between column minimum and maximum.\n",
        "\n",
        "    Returns:\n",
        "        Pandas DataFrame containing partial dependence values.\n",
        "\n",
        "    \"\"\"\n",
        "\n",
        "    # turn off pesky Pandas copy warning\n",
        "    pd.options.mode.chained_assignment = None\n",
        "\n",
        "    # initialize empty Pandas DataFrame with correct column names\n",
        "    par_dep_frame = pd.DataFrame(columns=[xs, 'partial_dependence'])\n",
        "\n",
        "    # cache original column values\n",
        "    col_cache = frame.loc[:, xs].copy(deep=True)\n",
        "\n",
        "    # determine values at which to calculate partial dependence\n",
        "    if bins == None:\n",
        "        min_ = frame[xs].min()\n",
        "        max_ = frame[xs].max()\n",
        "        by = (max_ - min_)/resolution\n",
        "        bins = np.arange(min_, max_, by)\n",
        "\n",
        "    # calculate partial dependence\n",
        "    # by setting column of interest to constant\n",
        "    # and scoring the altered data and taking the mean of the predictions\n",
        "    for j in bins:\n",
        "        frame.loc[:, xs] = j\n",
        "        dframe = xgb.DMatrix(frame)\n",
        "        par_dep_i = pd.DataFrame(model.predict(dframe, ntree_limit=model.best_ntree_limit))\n",
        "        par_dep_j = par_dep_i.mean()[0]\n",
        "        par_dep_frame = par_dep_frame.append({xs:j,\n",
        "                                              'partial_dependence': par_dep_j},\n",
        "                                              ignore_index=True)\n",
        "\n",
        "    # return input frame to original cached state\n",
        "    frame.loc[:, xs] = col_cache\n",
        "\n",
        "    return par_dep_frame"
      ]
    },
    {
      "cell_type": "code",
      "execution_count": null,
      "metadata": {
        "id": "QHEG9mYHty33"
      },
      "outputs": [],
      "source": [
        "par_dep_PAY_0 = par_dep('PAY_0', test[X], xgb_model)         # calculate partial dependence for PAY_0\n",
        "par_dep_LIMIT_BAL = par_dep('LIMIT_BAL', test[X], xgb_model) # calculate partial dependence for LIMIT_BAL\n",
        "par_dep_BILL_AMT1 = par_dep('BILL_AMT1', test[X], xgb_model) # calculate partial dependence for BILL_AMT1\n",
        "\n",
        "# display partial dependence for LIMIT_BAL\n",
        "par_dep_LIMIT_BAL"
      ]
    },
    {
      "cell_type": "code",
      "execution_count": null,
      "metadata": {
        "id": "YkguMvVVty33"
      },
      "outputs": [],
      "source": []
    },
    {
      "cell_type": "code",
      "execution_count": null,
      "metadata": {
        "id": "8VndVfAxty33"
      },
      "outputs": [],
      "source": [
        "def get_percentile_dict(yhat, id_, frame):\n",
        "\n",
        "    \"\"\" Returns the percentiles of a column, yhat, as the indices based on\n",
        "        another column id_.\n",
        "\n",
        "    Args:\n",
        "        yhat: Column in which to find percentiles.\n",
        "        id_: Id column that stores indices for percentiles of yhat.\n",
        "        frame: Pandas DataFrame containing yhat and id_.\n",
        "\n",
        "    Returns:\n",
        "        Dictionary of percentile values and index column values.\n",
        "\n",
        "    \"\"\"\n",
        "\n",
        "    # create a copy of frame and sort it by yhat\n",
        "    sort_df = frame.copy(deep=True)\n",
        "    sort_df.sort_values(yhat, inplace=True)\n",
        "    sort_df.reset_index(inplace=True)\n",
        "\n",
        "    # find top and bottom percentiles\n",
        "    percentiles_dict = {}\n",
        "    percentiles_dict[0] = sort_df.loc[0, id_]\n",
        "    percentiles_dict[99] = sort_df.loc[sort_df.shape[0]-1, id_]\n",
        "\n",
        "    # find 10th-90th percentiles\n",
        "    inc = sort_df.shape[0]//10\n",
        "    for i in range(1, 10):\n",
        "        percentiles_dict[i * 10] = sort_df.loc[i * inc,  id_]\n",
        "\n",
        "    return percentiles_dict"
      ]
    },
    {
      "cell_type": "code",
      "execution_count": null,
      "metadata": {
        "id": "urA_XEXIty33"
      },
      "outputs": [],
      "source": [
        "# merge GBM predictions onto test data\n",
        "yhat_test = pd.concat([test.reset_index(drop=True), pd.DataFrame(xgb_model.predict(dtest))], axis=1)\n",
        "yhat_test = yhat_test.rename(columns={0:'p_DEFAULT_NEXT_MONTH'})\n",
        "\n",
        "# find percentiles of predictions\n",
        "percentile_dict = get_percentile_dict('p_DEFAULT_NEXT_MONTH', 'ID', yhat_test)\n",
        "\n",
        "# display percentiles dictionary\n",
        "# ID values for rows\n",
        "# from lowest prediction\n",
        "# to highest prediction\n",
        "percentile_dict"
      ]
    },
    {
      "cell_type": "markdown",
      "metadata": {
        "id": "S7MWdtncty33"
      },
      "source": [
        "### ICE"
      ]
    },
    {
      "cell_type": "code",
      "execution_count": null,
      "metadata": {
        "id": "vI_3hQRMty33"
      },
      "outputs": [],
      "source": [
        "# retreive bins from original partial dependence calculation\n",
        "\n",
        "bins_PAY_0 = list(par_dep_PAY_0['PAY_0'])\n",
        "bins_LIMIT_BAL = list(par_dep_LIMIT_BAL['LIMIT_BAL'])\n",
        "bins_BILL_AMT1 = list(par_dep_BILL_AMT1['BILL_AMT1'])\n",
        "\n",
        "# for each percentile in percentile_dict\n",
        "# create a new column in the par_dep frame\n",
        "# representing the ICE curve for that percentile\n",
        "# and the variables of interest\n",
        "for i in sorted(percentile_dict.keys()):\n",
        "\n",
        "    col_name = 'Percentile_' + str(i)\n",
        "\n",
        "    # ICE curves for PAY_0 across percentiles at bins_PAY_0 intervals\n",
        "    par_dep_PAY_0[col_name] = par_dep('PAY_0',\n",
        "                                    test[test['ID'] == int(percentile_dict[i])][X],\n",
        "                                    xgb_model,\n",
        "                                    bins=bins_PAY_0)['partial_dependence']\n",
        "\n",
        "    # ICE curves for LIMIT_BAL across percentiles at bins_LIMIT_BAL intervals\n",
        "    par_dep_LIMIT_BAL[col_name] = par_dep('LIMIT_BAL',\n",
        "                                          test[test['ID'] == int(percentile_dict[i])][X],\n",
        "                                          xgb_model,\n",
        "                                          bins=bins_LIMIT_BAL)['partial_dependence']\n",
        "\n",
        "\n",
        "\n",
        "    # ICE curves for BILL_AMT1 across percentiles at bins_BILL_AMT1 intervals\n",
        "    par_dep_BILL_AMT1[col_name] = par_dep('BILL_AMT1',\n",
        "                                          test[test['ID'] == int(percentile_dict[i])][X],\n",
        "                                          xgb_model,\n",
        "                                          bins=bins_BILL_AMT1)['partial_dependence']"
      ]
    },
    {
      "cell_type": "code",
      "execution_count": null,
      "metadata": {
        "id": "wx1wvtXBty34"
      },
      "outputs": [],
      "source": [
        "par_dep_LIMIT_BAL"
      ]
    },
    {
      "cell_type": "markdown",
      "metadata": {
        "id": "1V7k53Prty34"
      },
      "source": [
        "### Plotting partial dependence and ICE to validate and explain monotonic behavior"
      ]
    },
    {
      "cell_type": "code",
      "execution_count": null,
      "metadata": {
        "id": "2BR2rnMxty34"
      },
      "outputs": [],
      "source": [
        "#### Function to plot partial dependence and ICE\n",
        "\n",
        "def plot_par_dep_ICE(xs, par_dep_frame):\n",
        "\n",
        "\n",
        "    \"\"\" Plots ICE overlayed onto partial dependence for a single variable.\n",
        "\n",
        "    Args:\n",
        "        xs: Name of variable for which to plot ICE and partial dependence.\n",
        "        par_dep_frame: Name of Pandas DataFrame containing ICE and partial\n",
        "                       dependence values.\n",
        "\n",
        "    \"\"\"\n",
        "\n",
        "    # initialize figure and axis\n",
        "    fig, ax = plt.subplots()\n",
        "\n",
        "    # plot ICE curves\n",
        "    par_dep_frame.drop('partial_dependence', axis=1).plot(x=xs,\n",
        "                                                          colormap='gnuplot',\n",
        "                                                          ax=ax)\n",
        "\n",
        "    # overlay partial dependence, annotate plot\n",
        "    par_dep_frame.plot(title='Partial Dependence and ICE for ' + str(xs),\n",
        "                       x=xs,\n",
        "                       y='partial_dependence',\n",
        "                       style='r-',\n",
        "                       linewidth=3,\n",
        "                       ax=ax)\n",
        "\n",
        "    # add legend\n",
        "    _ = plt.legend(bbox_to_anchor=(1.05, 0),\n",
        "                   loc=3,\n",
        "                   borderaxespad=0.)"
      ]
    },
    {
      "cell_type": "code",
      "execution_count": null,
      "metadata": {
        "id": "1cIQE1EFty34"
      },
      "outputs": [],
      "source": [
        "plot_par_dep_ICE('LIMIT_BAL', par_dep_LIMIT_BAL) # plot partial dependence and ICE for LIMIT_BAL"
      ]
    },
    {
      "cell_type": "code",
      "execution_count": null,
      "metadata": {
        "id": "WZRuCPMKty37"
      },
      "outputs": [],
      "source": [
        "_ = train['LIMIT_BAL'].plot(kind='hist', bins=20, title='Histogram: LIMIT_BAL')"
      ]
    },
    {
      "cell_type": "code",
      "execution_count": null,
      "metadata": {
        "id": "8D75BfHDty37"
      },
      "outputs": [],
      "source": [
        "plot_par_dep_ICE('PAY_0', par_dep_PAY_0) # plot partial dependence and ICE for PAY_0"
      ]
    },
    {
      "cell_type": "code",
      "execution_count": null,
      "metadata": {
        "id": "2uBD8PwTty38"
      },
      "outputs": [],
      "source": [
        "_ = train['PAY_0'].plot(kind='hist', bins=20, title='Histogram: PAY_0')"
      ]
    },
    {
      "cell_type": "code",
      "execution_count": null,
      "metadata": {
        "id": "R4RBEIH4ty38"
      },
      "outputs": [],
      "source": [
        "plot_par_dep_ICE('BILL_AMT1', par_dep_BILL_AMT1) # plot partial dependence and ICE for BILL_AMT1"
      ]
    },
    {
      "cell_type": "code",
      "execution_count": null,
      "metadata": {
        "id": "0Fhe2bFVty38"
      },
      "outputs": [],
      "source": [
        "_ = train['BILL_AMT1'].plot(kind='hist', bins=20, title='Histogram: BILL_AMT1')"
      ]
    },
    {
      "cell_type": "markdown",
      "metadata": {
        "id": "Tn7G-Wpbty38"
      },
      "source": [
        "### Generate reason codes using the Shapley method"
      ]
    },
    {
      "cell_type": "code",
      "execution_count": null,
      "metadata": {
        "id": "DZTtghPhty38"
      },
      "outputs": [],
      "source": [
        "test.reset_index(drop=True, inplace=True)"
      ]
    },
    {
      "cell_type": "code",
      "execution_count": null,
      "metadata": {
        "id": "Kg2czXfety38"
      },
      "outputs": [],
      "source": [
        "decile = 99\n",
        "row = test[test['ID'] == percentile_dict[decile]]"
      ]
    },
    {
      "cell_type": "code",
      "execution_count": null,
      "metadata": {
        "id": "xRbrIwsKty38"
      },
      "outputs": [],
      "source": [
        "# reset test data index to find riskiest customer in shap_values\n",
        "# sort to find largest positive contributions\n",
        "s_df = pd.DataFrame(shap_values[row.index[0], :][:-1].reshape(23, 1), columns=['Reason Codes'], index=X)\n",
        "s_df.sort_values(by='Reason Codes', inplace=True, ascending=False)"
      ]
    },
    {
      "cell_type": "code",
      "execution_count": null,
      "metadata": {
        "id": "rHLMzeHXty38"
      },
      "outputs": [],
      "source": [
        "s_df"
      ]
    },
    {
      "cell_type": "code",
      "execution_count": null,
      "metadata": {
        "id": "M_ha0Eenty39"
      },
      "outputs": [],
      "source": [
        "_ = s_df[:5].plot(kind='bar',\n",
        "                  title='Top Five Reason Codes for a Risky Customer\\n',\n",
        "                  legend=False)"
      ]
    },
    {
      "cell_type": "code",
      "execution_count": null,
      "metadata": {
        "id": "q0TV7LPMty39"
      },
      "outputs": [],
      "source": [
        "row # helps understand reason codes"
      ]
    },
    {
      "cell_type": "code",
      "execution_count": null,
      "metadata": {
        "id": "muFIcLYTty39"
      },
      "outputs": [],
      "source": []
    }
  ],
  "metadata": {
    "kernelspec": {
      "display_name": "Python Multi",
      "language": "python",
      "name": "multi"
    },
    "language_info": {
      "codemirror_mode": {
        "name": "ipython",
        "version": 3
      },
      "file_extension": ".py",
      "mimetype": "text/x-python",
      "name": "python",
      "nbconvert_exporter": "python",
      "pygments_lexer": "ipython3",
      "version": "3.7.6"
    },
    "colab": {
      "name": "12-0xgb.ipynb",
      "provenance": [],
      "include_colab_link": true
    }
  },
  "nbformat": 4,
  "nbformat_minor": 0
}